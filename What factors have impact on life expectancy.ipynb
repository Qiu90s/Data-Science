{
 "cells": [
  {
   "cell_type": "markdown",
   "metadata": {},
   "source": [
    "# What factors impact on life expectancy of countries？"
   ]
  },
  {
   "cell_type": "code",
   "execution_count": 1,
   "metadata": {},
   "outputs": [],
   "source": [
    "import time\n",
    "start_time = time.time()"
   ]
  },
  {
   "cell_type": "markdown",
   "metadata": {},
   "source": [
    "## 1.Introduction"
   ]
  },
  {
   "cell_type": "markdown",
   "metadata": {},
   "source": [
    "Life expectancy refers to the average number of years that people born in the same year can expect to continue to live if the current mortality rate of each age group remains unchanged. What needs to be pointed out is that the life expectancy data provided by literature and websites, including the data set used in this notebook, refer to the life expectancy of 0-year-old babies born in the year in which the data is given. This is an indicator calculated on the basis of the current mortality rate of each age group.\n",
    "\n",
    "Life expectancy is the indicator to measure the health of a country or region. At the same time, it can reflect the general quality of life in a society. This is because people’s life span is often restricted by socio-economic conditions and medical standards. Life expectancy is an important indicator, so it is very valuable to find out the factors related to the difference in life expectancy among different countries or regions in the world."
   ]
  },
  {
   "cell_type": "code",
   "execution_count": 2,
   "metadata": {},
   "outputs": [],
   "source": [
    "import pandas as pd\n",
    "import numpy as np \n",
    "import matplotlib.pyplot as plt\n",
    "import seaborn as sns\n",
    "from scipy.stats.mstats import winsorize\n",
    "\n",
    "pd.set_option('display.max_rows', 300) # specifies number of rows to show\n",
    "pd.options.display.float_format = '{:40,.4f}'.format # specifies default number format to 4 decimal places\n",
    "plt.style.use('ggplot') # specifies that graphs should use ggplot styling\n",
    "%matplotlib inline"
   ]
  },
  {
   "cell_type": "markdown",
   "metadata": {},
   "source": [
    "In addition to the libraries used in the CASA0003, CASA0006 and CASA0007 modules, I import `winsorize` from `scipy.stats.mstats` to deal with outliers in variables."
   ]
  },
  {
   "cell_type": "markdown",
   "metadata": {},
   "source": [
    "## 2.Literature Rivew"
   ]
  },
  {
   "cell_type": "markdown",
   "metadata": {},
   "source": [
    "There are huge differences in the life expectancy of groups in both different times and places(Roser, Ortiz-Ospina and Ritchie, 2013). Before modernization, the average life expectancy all over the world was 30 years and by the 19th century, this value had doubled.There are many countries in the world where life expectancy is in the range of 50-60 years, while it in Japan has exceeded 80 years for many years.\n",
    "\n",
    "Faced with such a huge difference in life expectancy, researchers have been trying to find relevant factors that affect life expectancy such as the gender factor(Ortiz-Ospina and Beltekian, 2018).\n",
    "\n",
    "Regression analysis is often used to quantitatively analyze the relationship between life expectancy and its related variables. Sede and Ohemeng used regression models to analyze the relationship between life expectancy in Nigeria and socio-economic factors (Sede and Ohemeng, 2015). They believe factors including government health expenditure, unemployment and measures to halt the depreciation of the currancy, really impact on life expectancy.\n",
    "\n",
    "In Gulis’s study, the linear regression model reflects that the most significant factors for life expectancy are the literacy and access to safe drinking water (Gulis, 2000).\n",
    "\n",
    "Li, Maduro and Begier used logistic regression to study the life expectancy in New York City during 2001-2010 (Li, Maduro and Begier, 2016). They mainly focused on the impact of different causes of death on life expectancy.\n",
    "\n",
    "Researchers mainly focused on socioeconomic factors, health factors, and mortality and we find that important immunization data which is contained in the dateset used by this notebook is rarely considered in regression models."
   ]
  },
  {
   "cell_type": "markdown",
   "metadata": {},
   "source": [
    "## 3.Research Question"
   ]
  },
  {
   "cell_type": "markdown",
   "metadata": {},
   "source": [
    "In this analysis, there are the following research questions：\n",
    "\n",
    "1.What factors impact on life expectancy of different countries in the same year and how to quantify their impact?\n",
    "\n",
    "2.Which model has done a greater job in fitting the relationship between the response and predictors？\n",
    "\n",
    "3.What other help do the method used have for the life expectancy dataset?"
   ]
  },
  {
   "cell_type": "markdown",
   "metadata": {},
   "source": [
    "## 4.Presentation of Data"
   ]
  },
  {
   "cell_type": "markdown",
   "metadata": {},
   "source": [
    "### Data Source\n",
    "The dataset used in the analysis comes from kaggle. \n",
    "The original data can be downloaded from this link：https://www.kaggle.com/kumarajarshi/life-expectancy-who"
   ]
  },
  {
   "cell_type": "markdown",
   "metadata": {},
   "source": [
    "### Variables Description\n",
    "From the introduction given by the data provider, we can get a list of the variables:\n",
    "\n",
    "- **'Country'**: the area where the data is collected.\n",
    "- **'Year'**: the time the data was collected.\n",
    "- **'Status'**: indicator whether the country is developed or developing.\n",
    "- **'Life Expectancy'**: life expectancy in age.\n",
    "- **'Adult Mortality'**: adult mortality rates of both sexes.\n",
    "- **'Infant Deaths'**: number of infant deaths per 1000 population.\n",
    "- **'Alcohol'**: alcohol, recorded per capita (15+) consumption.\n",
    "- **'Percentage Expenditure'**: expenditure on health as a percentage of Gross Domestic Product per capita(%).\n",
    "- **'Hepatitis B'**: hepatitis B (hepB) immunization coverage among 1-year-olds (%).\n",
    "- **'Measles'**:number of reported cases per 1000 population.\n",
    "- **'BMI'**: average Body Mass Index of entire population.\n",
    "- **'Under-five Deaths'**: number of under-five deaths per 1000 population.\n",
    "- **'Polio'**: polio (Pol3) immunization coverage among 1-year-olds (%).\n",
    "- **'Total Expenditure'**: general government expenditure on health as a percentage of total government expenditure (%).\n",
    "- **'Diphtheria'**: diphtheria tetanus toxoid and pertussis (DTP3) immunization coverage among 1-year-olds (%).\n",
    "- **'HIV/AIDS'**: deaths per 1 000 live births HIV/AIDS (0-4 years).\n",
    "- **'GDP'**: Gross Domestic Product per capita (in USD).\n",
    "- **'Population'**: population of the country.\n",
    "- **'Thinness 1-19 years'**: prevalence of thinness among children and adolescents for Age 10 to 19 (% ).\n",
    "- **'Thinness 5-9 years'**: prevalence of thinness among children for Age 5 to 9(%).\n",
    "- **'Income Romposition of Resource'**: human Development Index in terms of income composition of resources (index ranging from 0 to 1).\n",
    "- **'Schooling'**: number of years of Schooling(years).\n",
    "\n",
    "\n"
   ]
  },
  {
   "cell_type": "markdown",
   "metadata": {},
   "source": [
    "### Data Processing\n",
    "\n",
    "#### Data Import\n",
    "We have uploaded the original dataset to github and used the link to load it in the notebook."
   ]
  },
  {
   "cell_type": "code",
   "execution_count": 3,
   "metadata": {},
   "outputs": [
    {
     "data": {
      "text/html": [
       "<div>\n",
       "<style scoped>\n",
       "    .dataframe tbody tr th:only-of-type {\n",
       "        vertical-align: middle;\n",
       "    }\n",
       "\n",
       "    .dataframe tbody tr th {\n",
       "        vertical-align: top;\n",
       "    }\n",
       "\n",
       "    .dataframe thead th {\n",
       "        text-align: right;\n",
       "    }\n",
       "</style>\n",
       "<table border=\"1\" class=\"dataframe\">\n",
       "  <thead>\n",
       "    <tr style=\"text-align: right;\">\n",
       "      <th></th>\n",
       "      <th>Country</th>\n",
       "      <th>Year</th>\n",
       "      <th>Status</th>\n",
       "      <th>Life expectancy</th>\n",
       "      <th>Adult Mortality</th>\n",
       "      <th>infant deaths</th>\n",
       "      <th>Alcohol</th>\n",
       "      <th>percentage expenditure</th>\n",
       "      <th>Hepatitis B</th>\n",
       "      <th>Measles</th>\n",
       "      <th>...</th>\n",
       "      <th>Polio</th>\n",
       "      <th>Total expenditure</th>\n",
       "      <th>Diphtheria</th>\n",
       "      <th>HIV/AIDS</th>\n",
       "      <th>GDP</th>\n",
       "      <th>Population</th>\n",
       "      <th>thinness  1-19 years</th>\n",
       "      <th>thinness 5-9 years</th>\n",
       "      <th>Income composition of resources</th>\n",
       "      <th>Schooling</th>\n",
       "    </tr>\n",
       "  </thead>\n",
       "  <tbody>\n",
       "    <tr>\n",
       "      <th>0</th>\n",
       "      <td>Afghanistan</td>\n",
       "      <td>2015</td>\n",
       "      <td>Developing</td>\n",
       "      <td>65.0000</td>\n",
       "      <td>263.0000</td>\n",
       "      <td>62</td>\n",
       "      <td>0.0100</td>\n",
       "      <td>71.2796</td>\n",
       "      <td>65.0000</td>\n",
       "      <td>1154</td>\n",
       "      <td>...</td>\n",
       "      <td>6.0000</td>\n",
       "      <td>8.1600</td>\n",
       "      <td>65.0000</td>\n",
       "      <td>0.1000</td>\n",
       "      <td>584.2592</td>\n",
       "      <td>33,736,494.0000</td>\n",
       "      <td>17.2000</td>\n",
       "      <td>17.3000</td>\n",
       "      <td>0.4790</td>\n",
       "      <td>10.1000</td>\n",
       "    </tr>\n",
       "    <tr>\n",
       "      <th>1</th>\n",
       "      <td>Afghanistan</td>\n",
       "      <td>2014</td>\n",
       "      <td>Developing</td>\n",
       "      <td>59.9000</td>\n",
       "      <td>271.0000</td>\n",
       "      <td>64</td>\n",
       "      <td>0.0100</td>\n",
       "      <td>73.5236</td>\n",
       "      <td>62.0000</td>\n",
       "      <td>492</td>\n",
       "      <td>...</td>\n",
       "      <td>58.0000</td>\n",
       "      <td>8.1800</td>\n",
       "      <td>62.0000</td>\n",
       "      <td>0.1000</td>\n",
       "      <td>612.6965</td>\n",
       "      <td>327,582.0000</td>\n",
       "      <td>17.5000</td>\n",
       "      <td>17.5000</td>\n",
       "      <td>0.4760</td>\n",
       "      <td>10.0000</td>\n",
       "    </tr>\n",
       "    <tr>\n",
       "      <th>2</th>\n",
       "      <td>Afghanistan</td>\n",
       "      <td>2013</td>\n",
       "      <td>Developing</td>\n",
       "      <td>59.9000</td>\n",
       "      <td>268.0000</td>\n",
       "      <td>66</td>\n",
       "      <td>0.0100</td>\n",
       "      <td>73.2192</td>\n",
       "      <td>64.0000</td>\n",
       "      <td>430</td>\n",
       "      <td>...</td>\n",
       "      <td>62.0000</td>\n",
       "      <td>8.1300</td>\n",
       "      <td>64.0000</td>\n",
       "      <td>0.1000</td>\n",
       "      <td>631.7450</td>\n",
       "      <td>31,731,688.0000</td>\n",
       "      <td>17.7000</td>\n",
       "      <td>17.7000</td>\n",
       "      <td>0.4700</td>\n",
       "      <td>9.9000</td>\n",
       "    </tr>\n",
       "    <tr>\n",
       "      <th>3</th>\n",
       "      <td>Afghanistan</td>\n",
       "      <td>2012</td>\n",
       "      <td>Developing</td>\n",
       "      <td>59.5000</td>\n",
       "      <td>272.0000</td>\n",
       "      <td>69</td>\n",
       "      <td>0.0100</td>\n",
       "      <td>78.1842</td>\n",
       "      <td>67.0000</td>\n",
       "      <td>2787</td>\n",
       "      <td>...</td>\n",
       "      <td>67.0000</td>\n",
       "      <td>8.5200</td>\n",
       "      <td>67.0000</td>\n",
       "      <td>0.1000</td>\n",
       "      <td>669.9590</td>\n",
       "      <td>3,696,958.0000</td>\n",
       "      <td>17.9000</td>\n",
       "      <td>18.0000</td>\n",
       "      <td>0.4630</td>\n",
       "      <td>9.8000</td>\n",
       "    </tr>\n",
       "    <tr>\n",
       "      <th>4</th>\n",
       "      <td>Afghanistan</td>\n",
       "      <td>2011</td>\n",
       "      <td>Developing</td>\n",
       "      <td>59.2000</td>\n",
       "      <td>275.0000</td>\n",
       "      <td>71</td>\n",
       "      <td>0.0100</td>\n",
       "      <td>7.0971</td>\n",
       "      <td>68.0000</td>\n",
       "      <td>3013</td>\n",
       "      <td>...</td>\n",
       "      <td>68.0000</td>\n",
       "      <td>7.8700</td>\n",
       "      <td>68.0000</td>\n",
       "      <td>0.1000</td>\n",
       "      <td>63.5372</td>\n",
       "      <td>2,978,599.0000</td>\n",
       "      <td>18.2000</td>\n",
       "      <td>18.2000</td>\n",
       "      <td>0.4540</td>\n",
       "      <td>9.5000</td>\n",
       "    </tr>\n",
       "  </tbody>\n",
       "</table>\n",
       "<p>5 rows × 22 columns</p>\n",
       "</div>"
      ],
      "text/plain": [
       "       Country  Year      Status                         Life expectancy   \\\n",
       "0  Afghanistan  2015  Developing                                  65.0000   \n",
       "1  Afghanistan  2014  Developing                                  59.9000   \n",
       "2  Afghanistan  2013  Developing                                  59.9000   \n",
       "3  Afghanistan  2012  Developing                                  59.5000   \n",
       "4  Afghanistan  2011  Developing                                  59.2000   \n",
       "\n",
       "                           Adult Mortality  infant deaths  \\\n",
       "0                                 263.0000             62   \n",
       "1                                 271.0000             64   \n",
       "2                                 268.0000             66   \n",
       "3                                 272.0000             69   \n",
       "4                                 275.0000             71   \n",
       "\n",
       "                                   Alcohol  \\\n",
       "0                                   0.0100   \n",
       "1                                   0.0100   \n",
       "2                                   0.0100   \n",
       "3                                   0.0100   \n",
       "4                                   0.0100   \n",
       "\n",
       "                    percentage expenditure  \\\n",
       "0                                  71.2796   \n",
       "1                                  73.5236   \n",
       "2                                  73.2192   \n",
       "3                                  78.1842   \n",
       "4                                   7.0971   \n",
       "\n",
       "                               Hepatitis B  Measles   ...  \\\n",
       "0                                  65.0000      1154  ...   \n",
       "1                                  62.0000       492  ...   \n",
       "2                                  64.0000       430  ...   \n",
       "3                                  67.0000      2787  ...   \n",
       "4                                  68.0000      3013  ...   \n",
       "\n",
       "                                     Polio  \\\n",
       "0                                   6.0000   \n",
       "1                                  58.0000   \n",
       "2                                  62.0000   \n",
       "3                                  67.0000   \n",
       "4                                  68.0000   \n",
       "\n",
       "                         Total expenditure  \\\n",
       "0                                   8.1600   \n",
       "1                                   8.1800   \n",
       "2                                   8.1300   \n",
       "3                                   8.5200   \n",
       "4                                   7.8700   \n",
       "\n",
       "                               Diphtheria   \\\n",
       "0                                  65.0000   \n",
       "1                                  62.0000   \n",
       "2                                  64.0000   \n",
       "3                                  67.0000   \n",
       "4                                  68.0000   \n",
       "\n",
       "                                  HIV/AIDS  \\\n",
       "0                                   0.1000   \n",
       "1                                   0.1000   \n",
       "2                                   0.1000   \n",
       "3                                   0.1000   \n",
       "4                                   0.1000   \n",
       "\n",
       "                                       GDP  \\\n",
       "0                                 584.2592   \n",
       "1                                 612.6965   \n",
       "2                                 631.7450   \n",
       "3                                 669.9590   \n",
       "4                                  63.5372   \n",
       "\n",
       "                                Population  \\\n",
       "0                          33,736,494.0000   \n",
       "1                             327,582.0000   \n",
       "2                          31,731,688.0000   \n",
       "3                           3,696,958.0000   \n",
       "4                           2,978,599.0000   \n",
       "\n",
       "                      thinness  1-19 years  \\\n",
       "0                                  17.2000   \n",
       "1                                  17.5000   \n",
       "2                                  17.7000   \n",
       "3                                  17.9000   \n",
       "4                                  18.2000   \n",
       "\n",
       "                        thinness 5-9 years  \\\n",
       "0                                  17.3000   \n",
       "1                                  17.5000   \n",
       "2                                  17.7000   \n",
       "3                                  18.0000   \n",
       "4                                  18.2000   \n",
       "\n",
       "           Income composition of resources  \\\n",
       "0                                   0.4790   \n",
       "1                                   0.4760   \n",
       "2                                   0.4700   \n",
       "3                                   0.4630   \n",
       "4                                   0.4540   \n",
       "\n",
       "                                 Schooling  \n",
       "0                                  10.1000  \n",
       "1                                  10.0000  \n",
       "2                                   9.9000  \n",
       "3                                   9.8000  \n",
       "4                                   9.5000  \n",
       "\n",
       "[5 rows x 22 columns]"
      ]
     },
     "execution_count": 3,
     "metadata": {},
     "output_type": "execute_result"
    }
   ],
   "source": [
    "data=pd.read_csv(\"https://raw.githubusercontent.com/Qiu90s/UCL-CASA/main/CASA0006%20Final/Life%20Expectancy%20Data.csv\")\n",
    "data.head()"
   ]
  },
  {
   "cell_type": "markdown",
   "metadata": {},
   "source": [
    "#### Data Cleaning\n",
    "\n",
    "We use the `info()` function to explore the information of the original dataset."
   ]
  },
  {
   "cell_type": "code",
   "execution_count": 4,
   "metadata": {},
   "outputs": [
    {
     "name": "stdout",
     "output_type": "stream",
     "text": [
      "<class 'pandas.core.frame.DataFrame'>\n",
      "RangeIndex: 2938 entries, 0 to 2937\n",
      "Data columns (total 22 columns):\n",
      " #   Column                           Non-Null Count  Dtype  \n",
      "---  ------                           --------------  -----  \n",
      " 0   Country                          2938 non-null   object \n",
      " 1   Year                             2938 non-null   int64  \n",
      " 2   Status                           2938 non-null   object \n",
      " 3   Life expectancy                  2928 non-null   float64\n",
      " 4   Adult Mortality                  2928 non-null   float64\n",
      " 5   infant deaths                    2938 non-null   int64  \n",
      " 6   Alcohol                          2744 non-null   float64\n",
      " 7   percentage expenditure           2938 non-null   float64\n",
      " 8   Hepatitis B                      2385 non-null   float64\n",
      " 9   Measles                          2938 non-null   int64  \n",
      " 10   BMI                             2904 non-null   float64\n",
      " 11  under-five deaths                2938 non-null   int64  \n",
      " 12  Polio                            2919 non-null   float64\n",
      " 13  Total expenditure                2712 non-null   float64\n",
      " 14  Diphtheria                       2919 non-null   float64\n",
      " 15   HIV/AIDS                        2938 non-null   float64\n",
      " 16  GDP                              2490 non-null   float64\n",
      " 17  Population                       2286 non-null   float64\n",
      " 18   thinness  1-19 years            2904 non-null   float64\n",
      " 19   thinness 5-9 years              2904 non-null   float64\n",
      " 20  Income composition of resources  2771 non-null   float64\n",
      " 21  Schooling                        2775 non-null   float64\n",
      "dtypes: float64(16), int64(4), object(2)\n",
      "memory usage: 505.1+ KB\n"
     ]
    }
   ],
   "source": [
    "data.info()"
   ]
  },
  {
   "cell_type": "markdown",
   "metadata": {},
   "source": [
    "Firstly we use `isna()` to count missing values corresponding to all columns."
   ]
  },
  {
   "cell_type": "code",
   "execution_count": 5,
   "metadata": {},
   "outputs": [
    {
     "name": "stdout",
     "output_type": "stream",
     "text": [
      "Country 0\n",
      "Year 0\n",
      "Status 0\n",
      "Life expectancy  10\n",
      "Adult Mortality 10\n",
      "infant deaths 0\n",
      "Alcohol 194\n",
      "percentage expenditure 0\n",
      "Hepatitis B 553\n",
      "Measles  0\n",
      " BMI  34\n",
      "under-five deaths  0\n",
      "Polio 19\n",
      "Total expenditure 226\n",
      "Diphtheria  19\n",
      " HIV/AIDS 0\n",
      "GDP 448\n",
      "Population 652\n",
      " thinness  1-19 years 34\n",
      " thinness 5-9 years 34\n",
      "Income composition of resources 167\n",
      "Schooling 163\n"
     ]
    }
   ],
   "source": [
    "for each in data.columns:\n",
    "    print(each,len(data[data[each].isna()==True]))"
   ]
  },
  {
   "cell_type": "markdown",
   "metadata": {},
   "source": [
    "Then we use `dropna()` and `drop_duplicates()` functions to remove rows with missing values and completely duplicate rows, respectively. Because the same row is the same data in the same country and year, it is useless. Use `shape()` to get the dimension of the dataset."
   ]
  },
  {
   "cell_type": "code",
   "execution_count": 6,
   "metadata": {},
   "outputs": [
    {
     "name": "stdout",
     "output_type": "stream",
     "text": [
      "Before (2938, 22)\n",
      "After (1649, 22)\n"
     ]
    }
   ],
   "source": [
    "print(\"Before\",data.shape)\n",
    "data=data.dropna().drop_duplicates() #Remove duplicate values and null values\n",
    "print(\"After\",data.shape)"
   ]
  },
  {
   "cell_type": "markdown",
   "metadata": {},
   "source": [
    "#### Converting categorical variables\n",
    "\n",
    "We know from the previous information of dataset that only variable `Status`'s dtype is `object`. It is the only categorical variable needs to be processed. Before dealing with it, check the number of categories of this variable."
   ]
  },
  {
   "cell_type": "code",
   "execution_count": 7,
   "metadata": {},
   "outputs": [
    {
     "name": "stdout",
     "output_type": "stream",
     "text": [
      "['Developing', 'Developed']\n"
     ]
    }
   ],
   "source": [
    "Categories_of_Status = list(data['Status'].value_counts().index)\n",
    "print(Categories_of_Status)"
   ]
  },
  {
   "cell_type": "markdown",
   "metadata": {},
   "source": [
    "Although the method given in the workshop is `One-Hot Encoding`, the categorical variable in this dataset is relatively simple and we assign the two categories **Developing** and **Developed** to 0 and 1 respectively."
   ]
  },
  {
   "cell_type": "code",
   "execution_count": 8,
   "metadata": {},
   "outputs": [],
   "source": [
    "data['Status']=data['Status'].map({'Developing':0,'Developed':1})"
   ]
  },
  {
   "cell_type": "code",
   "execution_count": 9,
   "metadata": {},
   "outputs": [
    {
     "data": {
      "text/html": [
       "<div>\n",
       "<style scoped>\n",
       "    .dataframe tbody tr th:only-of-type {\n",
       "        vertical-align: middle;\n",
       "    }\n",
       "\n",
       "    .dataframe tbody tr th {\n",
       "        vertical-align: top;\n",
       "    }\n",
       "\n",
       "    .dataframe thead th {\n",
       "        text-align: right;\n",
       "    }\n",
       "</style>\n",
       "<table border=\"1\" class=\"dataframe\">\n",
       "  <thead>\n",
       "    <tr style=\"text-align: right;\">\n",
       "      <th></th>\n",
       "      <th>Year</th>\n",
       "      <th>Status</th>\n",
       "      <th>Life expectancy</th>\n",
       "      <th>Adult Mortality</th>\n",
       "      <th>infant deaths</th>\n",
       "      <th>Alcohol</th>\n",
       "      <th>percentage expenditure</th>\n",
       "      <th>Hepatitis B</th>\n",
       "      <th>Measles</th>\n",
       "      <th>BMI</th>\n",
       "      <th>...</th>\n",
       "      <th>Polio</th>\n",
       "      <th>Total expenditure</th>\n",
       "      <th>Diphtheria</th>\n",
       "      <th>HIV/AIDS</th>\n",
       "      <th>GDP</th>\n",
       "      <th>Population</th>\n",
       "      <th>thinness  1-19 years</th>\n",
       "      <th>thinness 5-9 years</th>\n",
       "      <th>Income composition of resources</th>\n",
       "      <th>Schooling</th>\n",
       "    </tr>\n",
       "    <tr>\n",
       "      <th>Country</th>\n",
       "      <th></th>\n",
       "      <th></th>\n",
       "      <th></th>\n",
       "      <th></th>\n",
       "      <th></th>\n",
       "      <th></th>\n",
       "      <th></th>\n",
       "      <th></th>\n",
       "      <th></th>\n",
       "      <th></th>\n",
       "      <th></th>\n",
       "      <th></th>\n",
       "      <th></th>\n",
       "      <th></th>\n",
       "      <th></th>\n",
       "      <th></th>\n",
       "      <th></th>\n",
       "      <th></th>\n",
       "      <th></th>\n",
       "      <th></th>\n",
       "      <th></th>\n",
       "    </tr>\n",
       "  </thead>\n",
       "  <tbody>\n",
       "    <tr>\n",
       "      <th>Afghanistan</th>\n",
       "      <td>2015</td>\n",
       "      <td>0</td>\n",
       "      <td>65.0000</td>\n",
       "      <td>263.0000</td>\n",
       "      <td>62</td>\n",
       "      <td>0.0100</td>\n",
       "      <td>71.2796</td>\n",
       "      <td>65.0000</td>\n",
       "      <td>1154</td>\n",
       "      <td>19.1000</td>\n",
       "      <td>...</td>\n",
       "      <td>6.0000</td>\n",
       "      <td>8.1600</td>\n",
       "      <td>65.0000</td>\n",
       "      <td>0.1000</td>\n",
       "      <td>584.2592</td>\n",
       "      <td>33,736,494.0000</td>\n",
       "      <td>17.2000</td>\n",
       "      <td>17.3000</td>\n",
       "      <td>0.4790</td>\n",
       "      <td>10.1000</td>\n",
       "    </tr>\n",
       "    <tr>\n",
       "      <th>Afghanistan</th>\n",
       "      <td>2014</td>\n",
       "      <td>0</td>\n",
       "      <td>59.9000</td>\n",
       "      <td>271.0000</td>\n",
       "      <td>64</td>\n",
       "      <td>0.0100</td>\n",
       "      <td>73.5236</td>\n",
       "      <td>62.0000</td>\n",
       "      <td>492</td>\n",
       "      <td>18.6000</td>\n",
       "      <td>...</td>\n",
       "      <td>58.0000</td>\n",
       "      <td>8.1800</td>\n",
       "      <td>62.0000</td>\n",
       "      <td>0.1000</td>\n",
       "      <td>612.6965</td>\n",
       "      <td>327,582.0000</td>\n",
       "      <td>17.5000</td>\n",
       "      <td>17.5000</td>\n",
       "      <td>0.4760</td>\n",
       "      <td>10.0000</td>\n",
       "    </tr>\n",
       "    <tr>\n",
       "      <th>Afghanistan</th>\n",
       "      <td>2013</td>\n",
       "      <td>0</td>\n",
       "      <td>59.9000</td>\n",
       "      <td>268.0000</td>\n",
       "      <td>66</td>\n",
       "      <td>0.0100</td>\n",
       "      <td>73.2192</td>\n",
       "      <td>64.0000</td>\n",
       "      <td>430</td>\n",
       "      <td>18.1000</td>\n",
       "      <td>...</td>\n",
       "      <td>62.0000</td>\n",
       "      <td>8.1300</td>\n",
       "      <td>64.0000</td>\n",
       "      <td>0.1000</td>\n",
       "      <td>631.7450</td>\n",
       "      <td>31,731,688.0000</td>\n",
       "      <td>17.7000</td>\n",
       "      <td>17.7000</td>\n",
       "      <td>0.4700</td>\n",
       "      <td>9.9000</td>\n",
       "    </tr>\n",
       "    <tr>\n",
       "      <th>Afghanistan</th>\n",
       "      <td>2012</td>\n",
       "      <td>0</td>\n",
       "      <td>59.5000</td>\n",
       "      <td>272.0000</td>\n",
       "      <td>69</td>\n",
       "      <td>0.0100</td>\n",
       "      <td>78.1842</td>\n",
       "      <td>67.0000</td>\n",
       "      <td>2787</td>\n",
       "      <td>17.6000</td>\n",
       "      <td>...</td>\n",
       "      <td>67.0000</td>\n",
       "      <td>8.5200</td>\n",
       "      <td>67.0000</td>\n",
       "      <td>0.1000</td>\n",
       "      <td>669.9590</td>\n",
       "      <td>3,696,958.0000</td>\n",
       "      <td>17.9000</td>\n",
       "      <td>18.0000</td>\n",
       "      <td>0.4630</td>\n",
       "      <td>9.8000</td>\n",
       "    </tr>\n",
       "    <tr>\n",
       "      <th>Afghanistan</th>\n",
       "      <td>2011</td>\n",
       "      <td>0</td>\n",
       "      <td>59.2000</td>\n",
       "      <td>275.0000</td>\n",
       "      <td>71</td>\n",
       "      <td>0.0100</td>\n",
       "      <td>7.0971</td>\n",
       "      <td>68.0000</td>\n",
       "      <td>3013</td>\n",
       "      <td>17.2000</td>\n",
       "      <td>...</td>\n",
       "      <td>68.0000</td>\n",
       "      <td>7.8700</td>\n",
       "      <td>68.0000</td>\n",
       "      <td>0.1000</td>\n",
       "      <td>63.5372</td>\n",
       "      <td>2,978,599.0000</td>\n",
       "      <td>18.2000</td>\n",
       "      <td>18.2000</td>\n",
       "      <td>0.4540</td>\n",
       "      <td>9.5000</td>\n",
       "    </tr>\n",
       "  </tbody>\n",
       "</table>\n",
       "<p>5 rows × 21 columns</p>\n",
       "</div>"
      ],
      "text/plain": [
       "             Year  Status                         Life expectancy   \\\n",
       "Country                                                              \n",
       "Afghanistan  2015       0                                  65.0000   \n",
       "Afghanistan  2014       0                                  59.9000   \n",
       "Afghanistan  2013       0                                  59.9000   \n",
       "Afghanistan  2012       0                                  59.5000   \n",
       "Afghanistan  2011       0                                  59.2000   \n",
       "\n",
       "                                     Adult Mortality  infant deaths  \\\n",
       "Country                                                               \n",
       "Afghanistan                                 263.0000             62   \n",
       "Afghanistan                                 271.0000             64   \n",
       "Afghanistan                                 268.0000             66   \n",
       "Afghanistan                                 272.0000             69   \n",
       "Afghanistan                                 275.0000             71   \n",
       "\n",
       "                                             Alcohol  \\\n",
       "Country                                                \n",
       "Afghanistan                                   0.0100   \n",
       "Afghanistan                                   0.0100   \n",
       "Afghanistan                                   0.0100   \n",
       "Afghanistan                                   0.0100   \n",
       "Afghanistan                                   0.0100   \n",
       "\n",
       "                              percentage expenditure  \\\n",
       "Country                                                \n",
       "Afghanistan                                  71.2796   \n",
       "Afghanistan                                  73.5236   \n",
       "Afghanistan                                  73.2192   \n",
       "Afghanistan                                  78.1842   \n",
       "Afghanistan                                   7.0971   \n",
       "\n",
       "                                         Hepatitis B  Measles   \\\n",
       "Country                                                          \n",
       "Afghanistan                                  65.0000      1154   \n",
       "Afghanistan                                  62.0000       492   \n",
       "Afghanistan                                  64.0000       430   \n",
       "Afghanistan                                  67.0000      2787   \n",
       "Afghanistan                                  68.0000      3013   \n",
       "\n",
       "                                                BMI   ...  \\\n",
       "Country                                               ...   \n",
       "Afghanistan                                  19.1000  ...   \n",
       "Afghanistan                                  18.6000  ...   \n",
       "Afghanistan                                  18.1000  ...   \n",
       "Afghanistan                                  17.6000  ...   \n",
       "Afghanistan                                  17.2000  ...   \n",
       "\n",
       "                                               Polio  \\\n",
       "Country                                                \n",
       "Afghanistan                                   6.0000   \n",
       "Afghanistan                                  58.0000   \n",
       "Afghanistan                                  62.0000   \n",
       "Afghanistan                                  67.0000   \n",
       "Afghanistan                                  68.0000   \n",
       "\n",
       "                                   Total expenditure  \\\n",
       "Country                                                \n",
       "Afghanistan                                   8.1600   \n",
       "Afghanistan                                   8.1800   \n",
       "Afghanistan                                   8.1300   \n",
       "Afghanistan                                   8.5200   \n",
       "Afghanistan                                   7.8700   \n",
       "\n",
       "                                         Diphtheria   \\\n",
       "Country                                                \n",
       "Afghanistan                                  65.0000   \n",
       "Afghanistan                                  62.0000   \n",
       "Afghanistan                                  64.0000   \n",
       "Afghanistan                                  67.0000   \n",
       "Afghanistan                                  68.0000   \n",
       "\n",
       "                                            HIV/AIDS  \\\n",
       "Country                                                \n",
       "Afghanistan                                   0.1000   \n",
       "Afghanistan                                   0.1000   \n",
       "Afghanistan                                   0.1000   \n",
       "Afghanistan                                   0.1000   \n",
       "Afghanistan                                   0.1000   \n",
       "\n",
       "                                                 GDP  \\\n",
       "Country                                                \n",
       "Afghanistan                                 584.2592   \n",
       "Afghanistan                                 612.6965   \n",
       "Afghanistan                                 631.7450   \n",
       "Afghanistan                                 669.9590   \n",
       "Afghanistan                                  63.5372   \n",
       "\n",
       "                                          Population  \\\n",
       "Country                                                \n",
       "Afghanistan                          33,736,494.0000   \n",
       "Afghanistan                             327,582.0000   \n",
       "Afghanistan                          31,731,688.0000   \n",
       "Afghanistan                           3,696,958.0000   \n",
       "Afghanistan                           2,978,599.0000   \n",
       "\n",
       "                                thinness  1-19 years  \\\n",
       "Country                                                \n",
       "Afghanistan                                  17.2000   \n",
       "Afghanistan                                  17.5000   \n",
       "Afghanistan                                  17.7000   \n",
       "Afghanistan                                  17.9000   \n",
       "Afghanistan                                  18.2000   \n",
       "\n",
       "                                  thinness 5-9 years  \\\n",
       "Country                                                \n",
       "Afghanistan                                  17.3000   \n",
       "Afghanistan                                  17.5000   \n",
       "Afghanistan                                  17.7000   \n",
       "Afghanistan                                  18.0000   \n",
       "Afghanistan                                  18.2000   \n",
       "\n",
       "                     Income composition of resources  \\\n",
       "Country                                                \n",
       "Afghanistan                                   0.4790   \n",
       "Afghanistan                                   0.4760   \n",
       "Afghanistan                                   0.4700   \n",
       "Afghanistan                                   0.4630   \n",
       "Afghanistan                                   0.4540   \n",
       "\n",
       "                                           Schooling  \n",
       "Country                                               \n",
       "Afghanistan                                  10.1000  \n",
       "Afghanistan                                  10.0000  \n",
       "Afghanistan                                   9.9000  \n",
       "Afghanistan                                   9.8000  \n",
       "Afghanistan                                   9.5000  \n",
       "\n",
       "[5 rows x 21 columns]"
      ]
     },
     "execution_count": 9,
     "metadata": {},
     "output_type": "execute_result"
    }
   ],
   "source": [
    "data=data.set_index(['Country'])\n",
    "data.head()"
   ]
  },
  {
   "cell_type": "markdown",
   "metadata": {},
   "source": [
    "#### Choosing Time Period for Research\n",
    "\n",
    "In this analysis, we hope to choose data of the one year as the research dataset. The sample size is the choosing criterion. Here is the sample size corresponding to each year in the current dataset."
   ]
  },
  {
   "cell_type": "code",
   "execution_count": 10,
   "metadata": {},
   "outputs": [
    {
     "data": {
      "image/png": "[encoded data removed]",
      "text/plain": [
       "<Figure size 720x432 with 1 Axes>"
      ]
     },
     "metadata": {
      "needs_background": "light"
     },
     "output_type": "display_data"
    }
   ],
   "source": [
    "year_data=data.groupby('Year').count()\n",
    "plt.figure(figsize=(10,6))\n",
    "plt.bar(year_data.index,year_data.Status)\n",
    "plt.title('Number of Samples in Different Year', fontsize=20)\n",
    "for a, b in zip(year_data.index,year_data.Status):\n",
    "    plt.text(a, b, '%.0f' % b, ha='center', va='bottom', fontsize=10)"
   ]
  },
  {
   "cell_type": "markdown",
   "metadata": {},
   "source": [
    "According to the information in the figure above, we choose 2014 as the main research year."
   ]
  },
  {
   "cell_type": "code",
   "execution_count": 11,
   "metadata": {},
   "outputs": [
    {
     "data": {
      "text/html": [
       "<div>\n",
       "<style scoped>\n",
       "    .dataframe tbody tr th:only-of-type {\n",
       "        vertical-align: middle;\n",
       "    }\n",
       "\n",
       "    .dataframe tbody tr th {\n",
       "        vertical-align: top;\n",
       "    }\n",
       "\n",
       "    .dataframe thead th {\n",
       "        text-align: right;\n",
       "    }\n",
       "</style>\n",
       "<table border=\"1\" class=\"dataframe\">\n",
       "  <thead>\n",
       "    <tr style=\"text-align: right;\">\n",
       "      <th></th>\n",
       "      <th>Status</th>\n",
       "      <th>Life expectancy</th>\n",
       "      <th>Adult Mortality</th>\n",
       "      <th>infant deaths</th>\n",
       "      <th>Alcohol</th>\n",
       "      <th>percentage expenditure</th>\n",
       "      <th>Hepatitis B</th>\n",
       "      <th>Measles</th>\n",
       "      <th>BMI</th>\n",
       "      <th>under-five deaths</th>\n",
       "      <th>Polio</th>\n",
       "      <th>Total expenditure</th>\n",
       "      <th>Diphtheria</th>\n",
       "      <th>HIV/AIDS</th>\n",
       "      <th>GDP</th>\n",
       "      <th>Population</th>\n",
       "      <th>thinness  1-19 years</th>\n",
       "      <th>thinness 5-9 years</th>\n",
       "      <th>Income composition of resources</th>\n",
       "      <th>Schooling</th>\n",
       "    </tr>\n",
       "    <tr>\n",
       "      <th>Country</th>\n",
       "      <th></th>\n",
       "      <th></th>\n",
       "      <th></th>\n",
       "      <th></th>\n",
       "      <th></th>\n",
       "      <th></th>\n",
       "      <th></th>\n",
       "      <th></th>\n",
       "      <th></th>\n",
       "      <th></th>\n",
       "      <th></th>\n",
       "      <th></th>\n",
       "      <th></th>\n",
       "      <th></th>\n",
       "      <th></th>\n",
       "      <th></th>\n",
       "      <th></th>\n",
       "      <th></th>\n",
       "      <th></th>\n",
       "      <th></th>\n",
       "    </tr>\n",
       "  </thead>\n",
       "  <tbody>\n",
       "    <tr>\n",
       "      <th>Afghanistan</th>\n",
       "      <td>0</td>\n",
       "      <td>59.9000</td>\n",
       "      <td>271.0000</td>\n",
       "      <td>64</td>\n",
       "      <td>0.0100</td>\n",
       "      <td>73.5236</td>\n",
       "      <td>62.0000</td>\n",
       "      <td>492</td>\n",
       "      <td>18.6000</td>\n",
       "      <td>86</td>\n",
       "      <td>58.0000</td>\n",
       "      <td>8.1800</td>\n",
       "      <td>62.0000</td>\n",
       "      <td>0.1000</td>\n",
       "      <td>612.6965</td>\n",
       "      <td>327,582.0000</td>\n",
       "      <td>17.5000</td>\n",
       "      <td>17.5000</td>\n",
       "      <td>0.4760</td>\n",
       "      <td>10.0000</td>\n",
       "    </tr>\n",
       "    <tr>\n",
       "      <th>Albania</th>\n",
       "      <td>0</td>\n",
       "      <td>77.5000</td>\n",
       "      <td>8.0000</td>\n",
       "      <td>0</td>\n",
       "      <td>4.5100</td>\n",
       "      <td>428.7491</td>\n",
       "      <td>98.0000</td>\n",
       "      <td>0</td>\n",
       "      <td>57.2000</td>\n",
       "      <td>1</td>\n",
       "      <td>98.0000</td>\n",
       "      <td>5.8800</td>\n",
       "      <td>98.0000</td>\n",
       "      <td>0.1000</td>\n",
       "      <td>4,575.7638</td>\n",
       "      <td>288,914.0000</td>\n",
       "      <td>1.2000</td>\n",
       "      <td>1.3000</td>\n",
       "      <td>0.7610</td>\n",
       "      <td>14.2000</td>\n",
       "    </tr>\n",
       "    <tr>\n",
       "      <th>Algeria</th>\n",
       "      <td>0</td>\n",
       "      <td>75.4000</td>\n",
       "      <td>11.0000</td>\n",
       "      <td>21</td>\n",
       "      <td>0.0100</td>\n",
       "      <td>54.2373</td>\n",
       "      <td>95.0000</td>\n",
       "      <td>0</td>\n",
       "      <td>58.4000</td>\n",
       "      <td>24</td>\n",
       "      <td>95.0000</td>\n",
       "      <td>7.2100</td>\n",
       "      <td>95.0000</td>\n",
       "      <td>0.1000</td>\n",
       "      <td>547.8517</td>\n",
       "      <td>39,113,313.0000</td>\n",
       "      <td>6.0000</td>\n",
       "      <td>5.8000</td>\n",
       "      <td>0.7410</td>\n",
       "      <td>14.4000</td>\n",
       "    </tr>\n",
       "    <tr>\n",
       "      <th>Angola</th>\n",
       "      <td>0</td>\n",
       "      <td>51.7000</td>\n",
       "      <td>348.0000</td>\n",
       "      <td>67</td>\n",
       "      <td>8.3300</td>\n",
       "      <td>23.9656</td>\n",
       "      <td>64.0000</td>\n",
       "      <td>11699</td>\n",
       "      <td>22.7000</td>\n",
       "      <td>101</td>\n",
       "      <td>68.0000</td>\n",
       "      <td>3.3100</td>\n",
       "      <td>64.0000</td>\n",
       "      <td>2.0000</td>\n",
       "      <td>479.3122</td>\n",
       "      <td>2,692,466.0000</td>\n",
       "      <td>8.5000</td>\n",
       "      <td>8.3000</td>\n",
       "      <td>0.5270</td>\n",
       "      <td>11.4000</td>\n",
       "    </tr>\n",
       "    <tr>\n",
       "      <th>Argentina</th>\n",
       "      <td>0</td>\n",
       "      <td>76.2000</td>\n",
       "      <td>118.0000</td>\n",
       "      <td>8</td>\n",
       "      <td>7.9300</td>\n",
       "      <td>847.3717</td>\n",
       "      <td>94.0000</td>\n",
       "      <td>1</td>\n",
       "      <td>62.2000</td>\n",
       "      <td>9</td>\n",
       "      <td>92.0000</td>\n",
       "      <td>4.7900</td>\n",
       "      <td>94.0000</td>\n",
       "      <td>0.1000</td>\n",
       "      <td>12,245.2565</td>\n",
       "      <td>42,981,515.0000</td>\n",
       "      <td>1.0000</td>\n",
       "      <td>0.9000</td>\n",
       "      <td>0.8250</td>\n",
       "      <td>17.3000</td>\n",
       "    </tr>\n",
       "  </tbody>\n",
       "</table>\n",
       "</div>"
      ],
      "text/plain": [
       "             Status                         Life expectancy   \\\n",
       "Country                                                        \n",
       "Afghanistan       0                                  59.9000   \n",
       "Albania           0                                  77.5000   \n",
       "Algeria           0                                  75.4000   \n",
       "Angola            0                                  51.7000   \n",
       "Argentina         0                                  76.2000   \n",
       "\n",
       "                                     Adult Mortality  infant deaths  \\\n",
       "Country                                                               \n",
       "Afghanistan                                 271.0000             64   \n",
       "Albania                                       8.0000              0   \n",
       "Algeria                                      11.0000             21   \n",
       "Angola                                      348.0000             67   \n",
       "Argentina                                   118.0000              8   \n",
       "\n",
       "                                             Alcohol  \\\n",
       "Country                                                \n",
       "Afghanistan                                   0.0100   \n",
       "Albania                                       4.5100   \n",
       "Algeria                                       0.0100   \n",
       "Angola                                        8.3300   \n",
       "Argentina                                     7.9300   \n",
       "\n",
       "                              percentage expenditure  \\\n",
       "Country                                                \n",
       "Afghanistan                                  73.5236   \n",
       "Albania                                     428.7491   \n",
       "Algeria                                      54.2373   \n",
       "Angola                                       23.9656   \n",
       "Argentina                                   847.3717   \n",
       "\n",
       "                                         Hepatitis B  Measles   \\\n",
       "Country                                                          \n",
       "Afghanistan                                  62.0000       492   \n",
       "Albania                                      98.0000         0   \n",
       "Algeria                                      95.0000         0   \n",
       "Angola                                       64.0000     11699   \n",
       "Argentina                                    94.0000         1   \n",
       "\n",
       "                                                BMI   under-five deaths   \\\n",
       "Country                                                                    \n",
       "Afghanistan                                  18.6000                  86   \n",
       "Albania                                      57.2000                   1   \n",
       "Algeria                                      58.4000                  24   \n",
       "Angola                                       22.7000                 101   \n",
       "Argentina                                    62.2000                   9   \n",
       "\n",
       "                                               Polio  \\\n",
       "Country                                                \n",
       "Afghanistan                                  58.0000   \n",
       "Albania                                      98.0000   \n",
       "Algeria                                      95.0000   \n",
       "Angola                                       68.0000   \n",
       "Argentina                                    92.0000   \n",
       "\n",
       "                                   Total expenditure  \\\n",
       "Country                                                \n",
       "Afghanistan                                   8.1800   \n",
       "Albania                                       5.8800   \n",
       "Algeria                                       7.2100   \n",
       "Angola                                        3.3100   \n",
       "Argentina                                     4.7900   \n",
       "\n",
       "                                         Diphtheria   \\\n",
       "Country                                                \n",
       "Afghanistan                                  62.0000   \n",
       "Albania                                      98.0000   \n",
       "Algeria                                      95.0000   \n",
       "Angola                                       64.0000   \n",
       "Argentina                                    94.0000   \n",
       "\n",
       "                                            HIV/AIDS  \\\n",
       "Country                                                \n",
       "Afghanistan                                   0.1000   \n",
       "Albania                                       0.1000   \n",
       "Algeria                                       0.1000   \n",
       "Angola                                        2.0000   \n",
       "Argentina                                     0.1000   \n",
       "\n",
       "                                                 GDP  \\\n",
       "Country                                                \n",
       "Afghanistan                                 612.6965   \n",
       "Albania                                   4,575.7638   \n",
       "Algeria                                     547.8517   \n",
       "Angola                                      479.3122   \n",
       "Argentina                                12,245.2565   \n",
       "\n",
       "                                          Population  \\\n",
       "Country                                                \n",
       "Afghanistan                             327,582.0000   \n",
       "Albania                                 288,914.0000   \n",
       "Algeria                              39,113,313.0000   \n",
       "Angola                                2,692,466.0000   \n",
       "Argentina                            42,981,515.0000   \n",
       "\n",
       "                                thinness  1-19 years  \\\n",
       "Country                                                \n",
       "Afghanistan                                  17.5000   \n",
       "Albania                                       1.2000   \n",
       "Algeria                                       6.0000   \n",
       "Angola                                        8.5000   \n",
       "Argentina                                     1.0000   \n",
       "\n",
       "                                  thinness 5-9 years  \\\n",
       "Country                                                \n",
       "Afghanistan                                  17.5000   \n",
       "Albania                                       1.3000   \n",
       "Algeria                                       5.8000   \n",
       "Angola                                        8.3000   \n",
       "Argentina                                     0.9000   \n",
       "\n",
       "                     Income composition of resources  \\\n",
       "Country                                                \n",
       "Afghanistan                                   0.4760   \n",
       "Albania                                       0.7610   \n",
       "Algeria                                       0.7410   \n",
       "Angola                                        0.5270   \n",
       "Argentina                                     0.8250   \n",
       "\n",
       "                                           Schooling  \n",
       "Country                                               \n",
       "Afghanistan                                  10.0000  \n",
       "Albania                                      14.2000  \n",
       "Algeria                                      14.4000  \n",
       "Angola                                       11.4000  \n",
       "Argentina                                    17.3000  "
      ]
     },
     "execution_count": 11,
     "metadata": {},
     "output_type": "execute_result"
    }
   ],
   "source": [
    "data=data[data['Year']==2014]\n",
    "del data['Year']\n",
    "data.head()"
   ]
  },
  {
   "cell_type": "markdown",
   "metadata": {},
   "source": [
    "#### Handling Outliers\n",
    "\n",
    "Inspired by some examples on kaggle, for dataset with many variables, we use `winsorize` to deal with outliers. [Here](https://docs.scipy.org/doc/scipy/reference/generated/scipy.stats.mstats.winsorize.html) is the official document. In this process, the 1% of the lowest value and the 1% of the highest values are replaced with corresponding critical values."
   ]
  },
  {
   "cell_type": "code",
   "execution_count": 12,
   "metadata": {},
   "outputs": [],
   "source": [
    "for each in data.columns[1:]:\n",
    "    data[each]=winsorize(data[each], limits=[0.01,0.01]) #winsorize"
   ]
  },
  {
   "cell_type": "markdown",
   "metadata": {},
   "source": [
    "We use the `describe()` function to display statistical indicators of variables in the dataset."
   ]
  },
  {
   "cell_type": "code",
   "execution_count": 13,
   "metadata": {},
   "outputs": [
    {
     "data": {
      "text/html": [
       "<div>\n",
       "<style scoped>\n",
       "    .dataframe tbody tr th:only-of-type {\n",
       "        vertical-align: middle;\n",
       "    }\n",
       "\n",
       "    .dataframe tbody tr th {\n",
       "        vertical-align: top;\n",
       "    }\n",
       "\n",
       "    .dataframe thead th {\n",
       "        text-align: right;\n",
       "    }\n",
       "</style>\n",
       "<table border=\"1\" class=\"dataframe\">\n",
       "  <thead>\n",
       "    <tr style=\"text-align: right;\">\n",
       "      <th></th>\n",
       "      <th>Status</th>\n",
       "      <th>Life expectancy</th>\n",
       "      <th>Adult Mortality</th>\n",
       "      <th>infant deaths</th>\n",
       "      <th>Alcohol</th>\n",
       "      <th>percentage expenditure</th>\n",
       "      <th>Hepatitis B</th>\n",
       "      <th>Measles</th>\n",
       "      <th>BMI</th>\n",
       "      <th>under-five deaths</th>\n",
       "      <th>Polio</th>\n",
       "      <th>Total expenditure</th>\n",
       "      <th>Diphtheria</th>\n",
       "      <th>HIV/AIDS</th>\n",
       "      <th>GDP</th>\n",
       "      <th>Population</th>\n",
       "      <th>thinness  1-19 years</th>\n",
       "      <th>thinness 5-9 years</th>\n",
       "      <th>Income composition of resources</th>\n",
       "      <th>Schooling</th>\n",
       "    </tr>\n",
       "  </thead>\n",
       "  <tbody>\n",
       "    <tr>\n",
       "      <th>count</th>\n",
       "      <td>131.0000</td>\n",
       "      <td>131.0000</td>\n",
       "      <td>131.0000</td>\n",
       "      <td>131.0000</td>\n",
       "      <td>131.0000</td>\n",
       "      <td>131.0000</td>\n",
       "      <td>131.0000</td>\n",
       "      <td>131.0000</td>\n",
       "      <td>131.0000</td>\n",
       "      <td>131.0000</td>\n",
       "      <td>131.0000</td>\n",
       "      <td>131.0000</td>\n",
       "      <td>131.0000</td>\n",
       "      <td>131.0000</td>\n",
       "      <td>131.0000</td>\n",
       "      <td>131.0000</td>\n",
       "      <td>131.0000</td>\n",
       "      <td>131.0000</td>\n",
       "      <td>131.0000</td>\n",
       "      <td>131.0000</td>\n",
       "    </tr>\n",
       "    <tr>\n",
       "      <th>mean</th>\n",
       "      <td>0.1450</td>\n",
       "      <td>70.5473</td>\n",
       "      <td>159.9542</td>\n",
       "      <td>25.0000</td>\n",
       "      <td>3.0514</td>\n",
       "      <td>809.0054</td>\n",
       "      <td>81.7328</td>\n",
       "      <td>1,884.7328</td>\n",
       "      <td>40.4641</td>\n",
       "      <td>34.8702</td>\n",
       "      <td>83.4962</td>\n",
       "      <td>6.0942</td>\n",
       "      <td>83.9084</td>\n",
       "      <td>0.7939</td>\n",
       "      <td>6,822.1532</td>\n",
       "      <td>14,339,894.5400</td>\n",
       "      <td>4.5916</td>\n",
       "      <td>4.8282</td>\n",
       "      <td>0.6696</td>\n",
       "      <td>12.6702</td>\n",
       "    </tr>\n",
       "    <tr>\n",
       "      <th>std</th>\n",
       "      <td>0.3535</td>\n",
       "      <td>8.5386</td>\n",
       "      <td>108.7202</td>\n",
       "      <td>70.8057</td>\n",
       "      <td>4.0632</td>\n",
       "      <td>1,794.5808</td>\n",
       "      <td>23.6880</td>\n",
       "      <td>8,685.7508</td>\n",
       "      <td>20.6921</td>\n",
       "      <td>104.1170</td>\n",
       "      <td>20.9664</td>\n",
       "      <td>2.4938</td>\n",
       "      <td>21.7547</td>\n",
       "      <td>1.4819</td>\n",
       "      <td>12,000.1250</td>\n",
       "      <td>39,174,005.4089</td>\n",
       "      <td>4.1758</td>\n",
       "      <td>4.2955</td>\n",
       "      <td>0.1511</td>\n",
       "      <td>2.6963</td>\n",
       "    </tr>\n",
       "    <tr>\n",
       "      <th>min</th>\n",
       "      <td>0.0000</td>\n",
       "      <td>51.7000</td>\n",
       "      <td>6.0000</td>\n",
       "      <td>0.0000</td>\n",
       "      <td>0.0100</td>\n",
       "      <td>1.4433</td>\n",
       "      <td>5.0000</td>\n",
       "      <td>0.0000</td>\n",
       "      <td>2.8000</td>\n",
       "      <td>0.0000</td>\n",
       "      <td>8.0000</td>\n",
       "      <td>1.3700</td>\n",
       "      <td>5.0000</td>\n",
       "      <td>0.1000</td>\n",
       "      <td>25.4484</td>\n",
       "      <td>2,771.0000</td>\n",
       "      <td>0.1000</td>\n",
       "      <td>0.1000</td>\n",
       "      <td>0.3450</td>\n",
       "      <td>6.3000</td>\n",
       "    </tr>\n",
       "    <tr>\n",
       "      <th>25%</th>\n",
       "      <td>0.0000</td>\n",
       "      <td>64.6500</td>\n",
       "      <td>74.5000</td>\n",
       "      <td>0.0000</td>\n",
       "      <td>0.0100</td>\n",
       "      <td>48.3114</td>\n",
       "      <td>78.0000</td>\n",
       "      <td>0.0000</td>\n",
       "      <td>22.8500</td>\n",
       "      <td>1.0000</td>\n",
       "      <td>78.0000</td>\n",
       "      <td>4.4850</td>\n",
       "      <td>80.0000</td>\n",
       "      <td>0.1000</td>\n",
       "      <td>554.9245</td>\n",
       "      <td>287,600.5000</td>\n",
       "      <td>1.5000</td>\n",
       "      <td>1.5500</td>\n",
       "      <td>0.5440</td>\n",
       "      <td>10.7500</td>\n",
       "    </tr>\n",
       "    <tr>\n",
       "      <th>50%</th>\n",
       "      <td>0.0000</td>\n",
       "      <td>72.0000</td>\n",
       "      <td>144.0000</td>\n",
       "      <td>3.0000</td>\n",
       "      <td>0.0100</td>\n",
       "      <td>198.7343</td>\n",
       "      <td>91.0000</td>\n",
       "      <td>10.0000</td>\n",
       "      <td>45.9000</td>\n",
       "      <td>3.0000</td>\n",
       "      <td>92.0000</td>\n",
       "      <td>5.8200</td>\n",
       "      <td>92.0000</td>\n",
       "      <td>0.1000</td>\n",
       "      <td>2,522.7968</td>\n",
       "      <td>1,562,974.0000</td>\n",
       "      <td>3.3000</td>\n",
       "      <td>3.5000</td>\n",
       "      <td>0.6970</td>\n",
       "      <td>12.7000</td>\n",
       "    </tr>\n",
       "    <tr>\n",
       "      <th>75%</th>\n",
       "      <td>0.0000</td>\n",
       "      <td>75.8000</td>\n",
       "      <td>225.0000</td>\n",
       "      <td>20.0000</td>\n",
       "      <td>6.3050</td>\n",
       "      <td>718.3236</td>\n",
       "      <td>96.0000</td>\n",
       "      <td>289.5000</td>\n",
       "      <td>59.4500</td>\n",
       "      <td>25.5000</td>\n",
       "      <td>97.0000</td>\n",
       "      <td>7.6300</td>\n",
       "      <td>97.0000</td>\n",
       "      <td>0.5000</td>\n",
       "      <td>7,438.0538</td>\n",
       "      <td>8,059,265.0000</td>\n",
       "      <td>6.6500</td>\n",
       "      <td>6.8000</td>\n",
       "      <td>0.7790</td>\n",
       "      <td>14.7000</td>\n",
       "    </tr>\n",
       "    <tr>\n",
       "      <th>max</th>\n",
       "      <td>1.0000</td>\n",
       "      <td>89.0000</td>\n",
       "      <td>463.0000</td>\n",
       "      <td>490.0000</td>\n",
       "      <td>13.9400</td>\n",
       "      <td>10,769.3630</td>\n",
       "      <td>99.0000</td>\n",
       "      <td>58,848.0000</td>\n",
       "      <td>74.8000</td>\n",
       "      <td>759.0000</td>\n",
       "      <td>99.0000</td>\n",
       "      <td>11.9300</td>\n",
       "      <td>99.0000</td>\n",
       "      <td>7.3000</td>\n",
       "      <td>62,214.6912</td>\n",
       "      <td>255,131,116.0000</td>\n",
       "      <td>19.4000</td>\n",
       "      <td>19.8000</td>\n",
       "      <td>0.9230</td>\n",
       "      <td>18.6000</td>\n",
       "    </tr>\n",
       "  </tbody>\n",
       "</table>\n",
       "</div>"
      ],
      "text/plain": [
       "                                        Status  \\\n",
       "count                                 131.0000   \n",
       "mean                                    0.1450   \n",
       "std                                     0.3535   \n",
       "min                                     0.0000   \n",
       "25%                                     0.0000   \n",
       "50%                                     0.0000   \n",
       "75%                                     0.0000   \n",
       "max                                     1.0000   \n",
       "\n",
       "                              Life expectancy   \\\n",
       "count                                 131.0000   \n",
       "mean                                   70.5473   \n",
       "std                                     8.5386   \n",
       "min                                    51.7000   \n",
       "25%                                    64.6500   \n",
       "50%                                    72.0000   \n",
       "75%                                    75.8000   \n",
       "max                                    89.0000   \n",
       "\n",
       "                               Adult Mortality  \\\n",
       "count                                 131.0000   \n",
       "mean                                  159.9542   \n",
       "std                                   108.7202   \n",
       "min                                     6.0000   \n",
       "25%                                    74.5000   \n",
       "50%                                   144.0000   \n",
       "75%                                   225.0000   \n",
       "max                                   463.0000   \n",
       "\n",
       "                                 infant deaths  \\\n",
       "count                                 131.0000   \n",
       "mean                                   25.0000   \n",
       "std                                    70.8057   \n",
       "min                                     0.0000   \n",
       "25%                                     0.0000   \n",
       "50%                                     3.0000   \n",
       "75%                                    20.0000   \n",
       "max                                   490.0000   \n",
       "\n",
       "                                       Alcohol  \\\n",
       "count                                 131.0000   \n",
       "mean                                    3.0514   \n",
       "std                                     4.0632   \n",
       "min                                     0.0100   \n",
       "25%                                     0.0100   \n",
       "50%                                     0.0100   \n",
       "75%                                     6.3050   \n",
       "max                                    13.9400   \n",
       "\n",
       "                        percentage expenditure  \\\n",
       "count                                 131.0000   \n",
       "mean                                  809.0054   \n",
       "std                                 1,794.5808   \n",
       "min                                     1.4433   \n",
       "25%                                    48.3114   \n",
       "50%                                   198.7343   \n",
       "75%                                   718.3236   \n",
       "max                                10,769.3630   \n",
       "\n",
       "                                   Hepatitis B  \\\n",
       "count                                 131.0000   \n",
       "mean                                   81.7328   \n",
       "std                                    23.6880   \n",
       "min                                     5.0000   \n",
       "25%                                    78.0000   \n",
       "50%                                    91.0000   \n",
       "75%                                    96.0000   \n",
       "max                                    99.0000   \n",
       "\n",
       "                                      Measles   \\\n",
       "count                                 131.0000   \n",
       "mean                                1,884.7328   \n",
       "std                                 8,685.7508   \n",
       "min                                     0.0000   \n",
       "25%                                     0.0000   \n",
       "50%                                    10.0000   \n",
       "75%                                   289.5000   \n",
       "max                                58,848.0000   \n",
       "\n",
       "                                          BMI   \\\n",
       "count                                 131.0000   \n",
       "mean                                   40.4641   \n",
       "std                                    20.6921   \n",
       "min                                     2.8000   \n",
       "25%                                    22.8500   \n",
       "50%                                    45.9000   \n",
       "75%                                    59.4500   \n",
       "max                                    74.8000   \n",
       "\n",
       "                            under-five deaths   \\\n",
       "count                                 131.0000   \n",
       "mean                                   34.8702   \n",
       "std                                   104.1170   \n",
       "min                                     0.0000   \n",
       "25%                                     1.0000   \n",
       "50%                                     3.0000   \n",
       "75%                                    25.5000   \n",
       "max                                   759.0000   \n",
       "\n",
       "                                         Polio  \\\n",
       "count                                 131.0000   \n",
       "mean                                   83.4962   \n",
       "std                                    20.9664   \n",
       "min                                     8.0000   \n",
       "25%                                    78.0000   \n",
       "50%                                    92.0000   \n",
       "75%                                    97.0000   \n",
       "max                                    99.0000   \n",
       "\n",
       "                             Total expenditure  \\\n",
       "count                                 131.0000   \n",
       "mean                                    6.0942   \n",
       "std                                     2.4938   \n",
       "min                                     1.3700   \n",
       "25%                                     4.4850   \n",
       "50%                                     5.8200   \n",
       "75%                                     7.6300   \n",
       "max                                    11.9300   \n",
       "\n",
       "                                   Diphtheria   \\\n",
       "count                                 131.0000   \n",
       "mean                                   83.9084   \n",
       "std                                    21.7547   \n",
       "min                                     5.0000   \n",
       "25%                                    80.0000   \n",
       "50%                                    92.0000   \n",
       "75%                                    97.0000   \n",
       "max                                    99.0000   \n",
       "\n",
       "                                      HIV/AIDS  \\\n",
       "count                                 131.0000   \n",
       "mean                                    0.7939   \n",
       "std                                     1.4819   \n",
       "min                                     0.1000   \n",
       "25%                                     0.1000   \n",
       "50%                                     0.1000   \n",
       "75%                                     0.5000   \n",
       "max                                     7.3000   \n",
       "\n",
       "                                           GDP  \\\n",
       "count                                 131.0000   \n",
       "mean                                6,822.1532   \n",
       "std                                12,000.1250   \n",
       "min                                    25.4484   \n",
       "25%                                   554.9245   \n",
       "50%                                 2,522.7968   \n",
       "75%                                 7,438.0538   \n",
       "max                                62,214.6912   \n",
       "\n",
       "                                    Population  \\\n",
       "count                                 131.0000   \n",
       "mean                           14,339,894.5400   \n",
       "std                            39,174,005.4089   \n",
       "min                                 2,771.0000   \n",
       "25%                               287,600.5000   \n",
       "50%                             1,562,974.0000   \n",
       "75%                             8,059,265.0000   \n",
       "max                           255,131,116.0000   \n",
       "\n",
       "                          thinness  1-19 years  \\\n",
       "count                                 131.0000   \n",
       "mean                                    4.5916   \n",
       "std                                     4.1758   \n",
       "min                                     0.1000   \n",
       "25%                                     1.5000   \n",
       "50%                                     3.3000   \n",
       "75%                                     6.6500   \n",
       "max                                    19.4000   \n",
       "\n",
       "                            thinness 5-9 years  \\\n",
       "count                                 131.0000   \n",
       "mean                                    4.8282   \n",
       "std                                     4.2955   \n",
       "min                                     0.1000   \n",
       "25%                                     1.5500   \n",
       "50%                                     3.5000   \n",
       "75%                                     6.8000   \n",
       "max                                    19.8000   \n",
       "\n",
       "               Income composition of resources  \\\n",
       "count                                 131.0000   \n",
       "mean                                    0.6696   \n",
       "std                                     0.1511   \n",
       "min                                     0.3450   \n",
       "25%                                     0.5440   \n",
       "50%                                     0.6970   \n",
       "75%                                     0.7790   \n",
       "max                                     0.9230   \n",
       "\n",
       "                                     Schooling  \n",
       "count                                 131.0000  \n",
       "mean                                   12.6702  \n",
       "std                                     2.6963  \n",
       "min                                     6.3000  \n",
       "25%                                    10.7500  \n",
       "50%                                    12.7000  \n",
       "75%                                    14.7000  \n",
       "max                                    18.6000  "
      ]
     },
     "execution_count": 13,
     "metadata": {},
     "output_type": "execute_result"
    }
   ],
   "source": [
    "data.describe()"
   ]
  },
  {
   "cell_type": "markdown",
   "metadata": {},
   "source": [
    "Then we give the basic information of the research dataset."
   ]
  },
  {
   "cell_type": "code",
   "execution_count": 14,
   "metadata": {},
   "outputs": [
    {
     "name": "stdout",
     "output_type": "stream",
     "text": [
      "<class 'pandas.core.frame.DataFrame'>\n",
      "Index: 131 entries, Afghanistan to Zimbabwe\n",
      "Data columns (total 20 columns):\n",
      " #   Column                           Non-Null Count  Dtype  \n",
      "---  ------                           --------------  -----  \n",
      " 0   Status                           131 non-null    int64  \n",
      " 1   Life expectancy                  131 non-null    float64\n",
      " 2   Adult Mortality                  131 non-null    float64\n",
      " 3   infant deaths                    131 non-null    int64  \n",
      " 4   Alcohol                          131 non-null    float64\n",
      " 5   percentage expenditure           131 non-null    float64\n",
      " 6   Hepatitis B                      131 non-null    float64\n",
      " 7   Measles                          131 non-null    int64  \n",
      " 8    BMI                             131 non-null    float64\n",
      " 9   under-five deaths                131 non-null    int64  \n",
      " 10  Polio                            131 non-null    float64\n",
      " 11  Total expenditure                131 non-null    float64\n",
      " 12  Diphtheria                       131 non-null    float64\n",
      " 13   HIV/AIDS                        131 non-null    float64\n",
      " 14  GDP                              131 non-null    float64\n",
      " 15  Population                       131 non-null    float64\n",
      " 16   thinness  1-19 years            131 non-null    float64\n",
      " 17   thinness 5-9 years              131 non-null    float64\n",
      " 18  Income composition of resources  131 non-null    float64\n",
      " 19  Schooling                        131 non-null    float64\n",
      "dtypes: float64(16), int64(4)\n",
      "memory usage: 26.5+ KB\n"
     ]
    }
   ],
   "source": [
    "data.info()"
   ]
  },
  {
   "cell_type": "markdown",
   "metadata": {},
   "source": [
    "#### Data Visualization"
   ]
  },
  {
   "cell_type": "markdown",
   "metadata": {},
   "source": [
    "Here we use the following code to generate a data set for visualization，named `data_for_vis`."
   ]
  },
  {
   "cell_type": "code",
   "execution_count": 15,
   "metadata": {},
   "outputs": [],
   "source": [
    "c_for_vis=['Life expectancy ','Status', 'Adult Mortality', 'Alcohol', 'percentage expenditure',\n",
    "       'Hepatitis B', 'Measles ', ' BMI ', 'under-five deaths ', 'Polio',\n",
    "       'Total expenditure', ' HIV/AIDS', ' thinness  1-19 years']\n",
    "data_for_vis=data.loc[:,c_for_vis].reset_index()"
   ]
  },
  {
   "cell_type": "markdown",
   "metadata": {},
   "source": [
    "We use the `seaborn` method to draw the distribution histogram of the dependent variable life expectancy."
   ]
  },
  {
   "cell_type": "code",
   "execution_count": 16,
   "metadata": {},
   "outputs": [
    {
     "data": {
      "text/plain": [
       "<AxesSubplot:title={'center':'Histogram of Life Expectancy'}, xlabel='Life expectancy ', ylabel='Count'>"
      ]
     },
     "execution_count": 16,
     "metadata": {},
     "output_type": "execute_result"
    },
    {
     "data": {
      "image/png": "[encoded data removed]",
      "text/plain": [
       "<Figure size 432x288 with 1 Axes>"
      ]
     },
     "metadata": {
      "needs_background": "light"
     },
     "output_type": "display_data"
    }
   ],
   "source": [
    "plt.title('Histogram of Life Expectancy', fontsize=10)\n",
    "sns.histplot(data_for_vis['Life expectancy ']) #All countries in the data set"
   ]
  },
  {
   "cell_type": "code",
   "execution_count": 17,
   "metadata": {},
   "outputs": [
    {
     "data": {
      "text/plain": [
       "<AxesSubplot:title={'center':'Histogram of Life Expectancy in Developing Countries'}, xlabel='Life expectancy ', ylabel='Count'>"
      ]
     },
     "execution_count": 17,
     "metadata": {},
     "output_type": "execute_result"
    },
    {
     "data": {
      "image/png": "[encoded data removed]",
      "text/plain": [
       "<Figure size 432x288 with 1 Axes>"
      ]
     },
     "metadata": {
      "needs_background": "light"
     },
     "output_type": "display_data"
    }
   ],
   "source": [
    "plt.title('Histogram of Life Expectancy in Developing Countries', fontsize=10)\n",
    "sns.histplot(data_for_vis[data_for_vis['Status']==0]['Life expectancy '])#['Status']==0"
   ]
  },
  {
   "cell_type": "code",
   "execution_count": 18,
   "metadata": {},
   "outputs": [
    {
     "data": {
      "text/plain": [
       "<AxesSubplot:title={'center':'Histogram of Life Expectancy in Developed Countries'}, xlabel='Life expectancy ', ylabel='Count'>"
      ]
     },
     "execution_count": 18,
     "metadata": {},
     "output_type": "execute_result"
    },
    {
     "data": {
      "image/png": "[encoded data removed]",
      "text/plain": [
       "<Figure size 432x288 with 1 Axes>"
      ]
     },
     "metadata": {
      "needs_background": "light"
     },
     "output_type": "display_data"
    }
   ],
   "source": [
    "plt.title('Histogram of Life Expectancy in Developed Countries', fontsize=10)\n",
    "sns.histplot(data_for_vis[data_for_vis['Status']==1]['Life expectancy '])#['Status']==1"
   ]
  },
  {
   "cell_type": "markdown",
   "metadata": {},
   "source": [
    "From the visualization above, we can find that the distribution of the **‘life expectancy'** as dependent variable is approximately normal. The distribution of **‘life expectancy'** in developing countries is also close to the normal distribution, while the distribution in developed countries is not normal due to the small sample size."
   ]
  },
  {
   "cell_type": "markdown",
   "metadata": {},
   "source": [
    "## 5.Methodology"
   ]
  },
  {
   "cell_type": "markdown",
   "metadata": {},
   "source": [
    "In order to answer the previous research questions, we firstly use 4 regression models, namely linear regression, lasso, regression tree and random forest. \n",
    "\n",
    "Linear regression and lasso will help us select the significant variables related to changes in life expectancy and explain the relationship among data. \n",
    "\n",
    "The **R2** scores obtained in the process helps explain which model has done a greatest job in fitting the relationship between the response and predictors. \n",
    "\n",
    "In addtion, random forest method is both powerful for regression and classification. We will make a random forest classifier and estimate its performance.\n",
    "\n",
    "It is worth mentioning that this analysis will not focus on estimatie of prediction performance of regressors, so we do not split the data set for the regressors. In this analysis, we mainly focus on exploring relationship among variables by regression and use all the data of 2014, as I believe the same relationship will apply to the whole dataset. In the correct workflow for prediction, to make a reliable prediction, dataset should be split at first. The comparison of model performance on different subsets can tell whether the model is overfitted or underfitted and whether we should adjust the model. I will split the dataset into a training set and a test set before building the classifier and use cross validation to tune its hyperparamete."
   ]
  },
  {
   "cell_type": "markdown",
   "metadata": {},
   "source": [
    "### Linear Regression"
   ]
  },
  {
   "cell_type": "markdown",
   "metadata": {},
   "source": [
    "#### Dealing with multicollinearity"
   ]
  },
  {
   "cell_type": "markdown",
   "metadata": {},
   "source": [
    "`Collinearity` is the problem when two variables are highly correlated. Because they contain similar information, they are not suitable as model variables. Generally, we use correlation matrix to detect obviously correlated variables."
   ]
  },
  {
   "cell_type": "code",
   "execution_count": 19,
   "metadata": {},
   "outputs": [
    {
     "data": {
      "text/plain": [
       "Text(0.5, 1.0, 'Correlation Matrix')"
      ]
     },
     "execution_count": 19,
     "metadata": {},
     "output_type": "execute_result"
    },
    {
     "data": {
      "image/png": "[encoded data removed]",
      "text/plain": [
       "<Figure size 1368x1080 with 2 Axes>"
      ]
     },
     "metadata": {
      "needs_background": "light"
     },
     "output_type": "display_data"
    }
   ],
   "source": [
    "df = data\n",
    "plt.rcParams[\"axes.grid\"] = False\n",
    "f = plt.figure(figsize=(19, 15))\n",
    "plt.matshow(df.corr(), fignum=f.number)\n",
    "plt.xticks(range(df.shape[1]), df.columns, fontsize=14, rotation=45)\n",
    "plt.yticks(range(df.shape[1]), df.columns, fontsize=14)\n",
    "cb = plt.colorbar()\n",
    "cb.ax.tick_params(labelsize=14)\n",
    "#plt.title('Correlation Matrix', fontsize=16)\n",
    "plt.title('Correlation Matrix', fontsize=20)"
   ]
  },
  {
   "cell_type": "markdown",
   "metadata": {},
   "source": [
    "`Multicollinearity` emerges when three or more variables, which are highly correlated, are included in a model. Multicollinearity will cause the regression relationship established by the model to be unreliable and the correlation matrix cannot deal with it. \n",
    "\n",
    "We can use the **VIF** method before establishing simple linear regression. VIF refers to the `Variance Inflation Factor`, which is a measure of the multicollinearity among the variables in a regression model. We can calculate VIF for each variable and remove the variable with highest VIF exceeding a certain threshold. After deleting, recalculate the VIF value of the remaining variables, and loop until no VIF exceeds the threshold.\n",
    "\n",
    "We use the following code to calculate VIF and remove inappropriate variables."
   ]
  },
  {
   "cell_type": "code",
   "execution_count": 20,
   "metadata": {},
   "outputs": [],
   "source": [
    "from statsmodels.stats.outliers_influence import variance_inflation_factor \n",
    "from statsmodels.tools.tools import add_constant\n",
    "\n",
    "def drop_column_using_vif_(df, list_var_not_to_remove, thresh=5):\n",
    "    '''\n",
    "    Calculates VIF each feature in a pandas dataframe, and repeatedly drop the columns with the highest VIF\n",
    "    A constant must be added to variance_inflation_factor or the results will be incorrect\n",
    "\n",
    "    :param df: the pandas dataframe containing only the predictor features, not the response variable\n",
    "    :param list_var_not_to_remove: the list of variables that should not be removed even though it has a high VIF. For example, dummy (or indicator) variables represent a categorical variable with three or more categories.\n",
    "    :param thresh: the max VIF value before the feature is removed from the dataframe\n",
    "    :return: dataframe with multicollinear features removed\n",
    "    '''\n",
    "    while True:\n",
    "        # adding a constatnt item to the data\n",
    "        df_with_const = add_constant(df)\n",
    "\n",
    "        vif_df = pd.Series([variance_inflation_factor(df_with_const.values, i) \n",
    "               for i in range(df_with_const.shape[1])], name= \"VIF\",\n",
    "              index=df_with_const.columns).to_frame()\n",
    "\n",
    "        # drop the const\n",
    "        vif_df = vif_df.drop('const').drop(list_var_not_to_remove)\n",
    "        \n",
    "        print('Max VIF:', vif_df.VIF.max())\n",
    "        \n",
    "        # if the largest VIF is above the thresh, remove a variable with the largest VIF\n",
    "        if vif_df.VIF.max() > thresh:\n",
    "            # If there are multiple variables with the maximum VIF, choose the first one\n",
    "            index_to_drop = vif_df.index[vif_df.VIF == vif_df.VIF.max()].tolist()[0]\n",
    "            print('Dropping: {}'.format(index_to_drop))\n",
    "            df = df.drop(columns = index_to_drop)\n",
    "        else:\n",
    "            # No VIF is above threshold. Exit the loop\n",
    "            break\n",
    "\n",
    "    return df"
   ]
  },
  {
   "cell_type": "code",
   "execution_count": 21,
   "metadata": {},
   "outputs": [],
   "source": [
    "predictors = data.drop('Life expectancy ', axis=1)\n",
    "Life_expectancy = data['Life expectancy ']\n",
    "list_var_not_to_remove = ['Status']"
   ]
  },
  {
   "cell_type": "markdown",
   "metadata": {},
   "source": [
    "We use the following code to drop inappropriate variables and display the selected variables."
   ]
  },
  {
   "cell_type": "code",
   "execution_count": 22,
   "metadata": {},
   "outputs": [
    {
     "name": "stdout",
     "output_type": "stream",
     "text": [
      "Max VIF: 109.82896303326434\n",
      "Dropping: infant deaths\n",
      "Max VIF: 11.218323017509892\n",
      "Dropping: Income composition of resources\n",
      "Max VIF: 10.951392031084712\n",
      "Dropping:  thinness 5-9 years\n",
      "Max VIF: 8.600864270566053\n",
      "Dropping: GDP\n",
      "Max VIF: 6.9896687000945406\n",
      "Dropping: Diphtheria \n",
      "Max VIF: 2.9925578174177607\n",
      "Dropping: Schooling\n",
      "Max VIF: 2.118356989065703\n",
      "The columns remaining after VIF selection are:\n",
      "Index(['Status', 'Adult Mortality', 'Alcohol', 'percentage expenditure',\n",
      "       'Hepatitis B', 'Measles ', ' BMI ', 'under-five deaths ', 'Polio',\n",
      "       'Total expenditure', ' HIV/AIDS', 'Population',\n",
      "       ' thinness  1-19 years'],\n",
      "      dtype='object')\n"
     ]
    }
   ],
   "source": [
    "df_predictors_select_VIF = drop_column_using_vif_(predictors, list_var_not_to_remove, thresh=2.5)\n",
    "print(\"The columns remaining after VIF selection are:\")\n",
    "print(df_predictors_select_VIF.columns)"
   ]
  },
  {
   "cell_type": "code",
   "execution_count": 23,
   "metadata": {},
   "outputs": [
    {
     "data": {
      "text/html": [
       "<div>\n",
       "<style scoped>\n",
       "    .dataframe tbody tr th:only-of-type {\n",
       "        vertical-align: middle;\n",
       "    }\n",
       "\n",
       "    .dataframe tbody tr th {\n",
       "        vertical-align: top;\n",
       "    }\n",
       "\n",
       "    .dataframe thead th {\n",
       "        text-align: right;\n",
       "    }\n",
       "</style>\n",
       "<table border=\"1\" class=\"dataframe\">\n",
       "  <thead>\n",
       "    <tr style=\"text-align: right;\">\n",
       "      <th></th>\n",
       "      <th>Status</th>\n",
       "      <th>Adult Mortality</th>\n",
       "      <th>Alcohol</th>\n",
       "      <th>percentage expenditure</th>\n",
       "      <th>Hepatitis B</th>\n",
       "      <th>Measles</th>\n",
       "      <th>BMI</th>\n",
       "      <th>under-five deaths</th>\n",
       "      <th>Polio</th>\n",
       "      <th>Total expenditure</th>\n",
       "      <th>HIV/AIDS</th>\n",
       "      <th>Population</th>\n",
       "      <th>thinness  1-19 years</th>\n",
       "    </tr>\n",
       "    <tr>\n",
       "      <th>Country</th>\n",
       "      <th></th>\n",
       "      <th></th>\n",
       "      <th></th>\n",
       "      <th></th>\n",
       "      <th></th>\n",
       "      <th></th>\n",
       "      <th></th>\n",
       "      <th></th>\n",
       "      <th></th>\n",
       "      <th></th>\n",
       "      <th></th>\n",
       "      <th></th>\n",
       "      <th></th>\n",
       "    </tr>\n",
       "  </thead>\n",
       "  <tbody>\n",
       "    <tr>\n",
       "      <th>Afghanistan</th>\n",
       "      <td>0</td>\n",
       "      <td>271.0000</td>\n",
       "      <td>0.0100</td>\n",
       "      <td>73.5236</td>\n",
       "      <td>62.0000</td>\n",
       "      <td>492</td>\n",
       "      <td>18.6000</td>\n",
       "      <td>86</td>\n",
       "      <td>58.0000</td>\n",
       "      <td>8.1800</td>\n",
       "      <td>0.1000</td>\n",
       "      <td>327,582.0000</td>\n",
       "      <td>17.5000</td>\n",
       "    </tr>\n",
       "    <tr>\n",
       "      <th>Albania</th>\n",
       "      <td>0</td>\n",
       "      <td>8.0000</td>\n",
       "      <td>4.5100</td>\n",
       "      <td>428.7491</td>\n",
       "      <td>98.0000</td>\n",
       "      <td>0</td>\n",
       "      <td>57.2000</td>\n",
       "      <td>1</td>\n",
       "      <td>98.0000</td>\n",
       "      <td>5.8800</td>\n",
       "      <td>0.1000</td>\n",
       "      <td>288,914.0000</td>\n",
       "      <td>1.2000</td>\n",
       "    </tr>\n",
       "    <tr>\n",
       "      <th>Algeria</th>\n",
       "      <td>0</td>\n",
       "      <td>11.0000</td>\n",
       "      <td>0.0100</td>\n",
       "      <td>54.2373</td>\n",
       "      <td>95.0000</td>\n",
       "      <td>0</td>\n",
       "      <td>58.4000</td>\n",
       "      <td>24</td>\n",
       "      <td>95.0000</td>\n",
       "      <td>7.2100</td>\n",
       "      <td>0.1000</td>\n",
       "      <td>39,113,313.0000</td>\n",
       "      <td>6.0000</td>\n",
       "    </tr>\n",
       "    <tr>\n",
       "      <th>Angola</th>\n",
       "      <td>0</td>\n",
       "      <td>348.0000</td>\n",
       "      <td>8.3300</td>\n",
       "      <td>23.9656</td>\n",
       "      <td>64.0000</td>\n",
       "      <td>11699</td>\n",
       "      <td>22.7000</td>\n",
       "      <td>101</td>\n",
       "      <td>68.0000</td>\n",
       "      <td>3.3100</td>\n",
       "      <td>2.0000</td>\n",
       "      <td>2,692,466.0000</td>\n",
       "      <td>8.5000</td>\n",
       "    </tr>\n",
       "    <tr>\n",
       "      <th>Argentina</th>\n",
       "      <td>0</td>\n",
       "      <td>118.0000</td>\n",
       "      <td>7.9300</td>\n",
       "      <td>847.3717</td>\n",
       "      <td>94.0000</td>\n",
       "      <td>1</td>\n",
       "      <td>62.2000</td>\n",
       "      <td>9</td>\n",
       "      <td>92.0000</td>\n",
       "      <td>4.7900</td>\n",
       "      <td>0.1000</td>\n",
       "      <td>42,981,515.0000</td>\n",
       "      <td>1.0000</td>\n",
       "    </tr>\n",
       "  </tbody>\n",
       "</table>\n",
       "</div>"
      ],
      "text/plain": [
       "             Status                          Adult Mortality  \\\n",
       "Country                                                        \n",
       "Afghanistan       0                                 271.0000   \n",
       "Albania           0                                   8.0000   \n",
       "Algeria           0                                  11.0000   \n",
       "Angola            0                                 348.0000   \n",
       "Argentina         0                                 118.0000   \n",
       "\n",
       "                                             Alcohol  \\\n",
       "Country                                                \n",
       "Afghanistan                                   0.0100   \n",
       "Albania                                       4.5100   \n",
       "Algeria                                       0.0100   \n",
       "Angola                                        8.3300   \n",
       "Argentina                                     7.9300   \n",
       "\n",
       "                              percentage expenditure  \\\n",
       "Country                                                \n",
       "Afghanistan                                  73.5236   \n",
       "Albania                                     428.7491   \n",
       "Algeria                                      54.2373   \n",
       "Angola                                       23.9656   \n",
       "Argentina                                   847.3717   \n",
       "\n",
       "                                         Hepatitis B  Measles   \\\n",
       "Country                                                          \n",
       "Afghanistan                                  62.0000       492   \n",
       "Albania                                      98.0000         0   \n",
       "Algeria                                      95.0000         0   \n",
       "Angola                                       64.0000     11699   \n",
       "Argentina                                    94.0000         1   \n",
       "\n",
       "                                                BMI   under-five deaths   \\\n",
       "Country                                                                    \n",
       "Afghanistan                                  18.6000                  86   \n",
       "Albania                                      57.2000                   1   \n",
       "Algeria                                      58.4000                  24   \n",
       "Angola                                       22.7000                 101   \n",
       "Argentina                                    62.2000                   9   \n",
       "\n",
       "                                               Polio  \\\n",
       "Country                                                \n",
       "Afghanistan                                  58.0000   \n",
       "Albania                                      98.0000   \n",
       "Algeria                                      95.0000   \n",
       "Angola                                       68.0000   \n",
       "Argentina                                    92.0000   \n",
       "\n",
       "                                   Total expenditure  \\\n",
       "Country                                                \n",
       "Afghanistan                                   8.1800   \n",
       "Albania                                       5.8800   \n",
       "Algeria                                       7.2100   \n",
       "Angola                                        3.3100   \n",
       "Argentina                                     4.7900   \n",
       "\n",
       "                                            HIV/AIDS  \\\n",
       "Country                                                \n",
       "Afghanistan                                   0.1000   \n",
       "Albania                                       0.1000   \n",
       "Algeria                                       0.1000   \n",
       "Angola                                        2.0000   \n",
       "Argentina                                     0.1000   \n",
       "\n",
       "                                          Population  \\\n",
       "Country                                                \n",
       "Afghanistan                             327,582.0000   \n",
       "Albania                                 288,914.0000   \n",
       "Algeria                              39,113,313.0000   \n",
       "Angola                                2,692,466.0000   \n",
       "Argentina                            42,981,515.0000   \n",
       "\n",
       "                                thinness  1-19 years  \n",
       "Country                                               \n",
       "Afghanistan                                  17.5000  \n",
       "Albania                                       1.2000  \n",
       "Algeria                                       6.0000  \n",
       "Angola                                        8.5000  \n",
       "Argentina                                     1.0000  "
      ]
     },
     "execution_count": 23,
     "metadata": {},
     "output_type": "execute_result"
    }
   ],
   "source": [
    "df_predictors_select_VIF.head()"
   ]
  },
  {
   "cell_type": "markdown",
   "metadata": {},
   "source": [
    "#### Establish Simple Linear Regression Model"
   ]
  },
  {
   "cell_type": "markdown",
   "metadata": {},
   "source": [
    "After dealing with multicollinearity, we start to build the model, using the `sklearn` package"
   ]
  },
  {
   "cell_type": "code",
   "execution_count": 24,
   "metadata": {},
   "outputs": [
    {
     "data": {
      "text/plain": [
       "LinearRegression()"
      ]
     },
     "execution_count": 24,
     "metadata": {},
     "output_type": "execute_result"
    }
   ],
   "source": [
    "from sklearn.linear_model import LinearRegression\n",
    "lr = LinearRegression()\n",
    "lr.fit(X=df_predictors_select_VIF, y=Life_expectancy)"
   ]
  },
  {
   "cell_type": "markdown",
   "metadata": {},
   "source": [
    "After creating the fit, we use the following code to view the constant terms and the coefficients of the variables in the model."
   ]
  },
  {
   "cell_type": "code",
   "execution_count": 25,
   "metadata": {},
   "outputs": [
    {
     "name": "stdout",
     "output_type": "stream",
     "text": [
      "Constant term:  67.99377625560196\n",
      "                       var                                     coef\n",
      "0                   Status                                   3.0489\n",
      "1          Adult Mortality                                  -0.0325\n",
      "2                  Alcohol                                   0.2681\n",
      "3   percentage expenditure                                   0.0004\n",
      "4              Hepatitis B                                   0.0132\n",
      "5                 Measles                                    0.0000\n",
      "6                     BMI                                    0.0629\n",
      "7       under-five deaths                                   -0.0058\n",
      "8                    Polio                                   0.0239\n",
      "9        Total expenditure                                   0.3460\n",
      "10                HIV/AIDS                                  -1.0716\n",
      "11              Population                                   0.0000\n",
      "12    thinness  1-19 years                                  -0.1718\n"
     ]
    }
   ],
   "source": [
    "print('Constant term: ', lr.intercept_)\n",
    "df_coef_lr_VIF = pd.DataFrame({\"var\": df_predictors_select_VIF.columns.values, \"coef\":lr.coef_})\n",
    "print(df_coef_lr_VIF)"
   ]
  },
  {
   "cell_type": "markdown",
   "metadata": {},
   "source": [
    "Further we hope to be able to view the R2 score of the model to know the goodness of the model fits. We use the following code."
   ]
  },
  {
   "cell_type": "code",
   "execution_count": 26,
   "metadata": {},
   "outputs": [
    {
     "name": "stdout",
     "output_type": "stream",
     "text": [
      "R2 score:\n"
     ]
    },
    {
     "data": {
      "text/plain": [
       "0.8107611764927484"
      ]
     },
     "execution_count": 26,
     "metadata": {},
     "output_type": "execute_result"
    }
   ],
   "source": [
    "print('R2 score:')\n",
    "lr.score(X=df_predictors_select_VIF, y=Life_expectancy)"
   ]
  },
  {
   "cell_type": "markdown",
   "metadata": {},
   "source": [
    "We can see that the **R2** value of 0.81 is quite high, which means that 81% of the variance in independent variable (life expectancy) can be explained by the predictors used in the linear regression model.\n",
    "\n",
    "In order to answer the research question in the **'Results and Discussion'** part, we need to use **P-value** to define variables that have a significant impact on life expectancy. We import `statsmodel` and use `summary()` function to get the p-value."
   ]
  },
  {
   "cell_type": "code",
   "execution_count": 27,
   "metadata": {},
   "outputs": [
    {
     "data": {
      "text/html": [
       "<table class=\"simpletable\">\n",
       "<caption>OLS Regression Results</caption>\n",
       "<tr>\n",
       "  <th>Dep. Variable:</th>    <td>Life expectancy </td> <th>  R-squared:         </th> <td>   0.811</td>\n",
       "</tr>\n",
       "<tr>\n",
       "  <th>Model:</th>                   <td>OLS</td>       <th>  Adj. R-squared:    </th> <td>   0.790</td>\n",
       "</tr>\n",
       "<tr>\n",
       "  <th>Method:</th>             <td>Least Squares</td>  <th>  F-statistic:       </th> <td>   38.56</td>\n",
       "</tr>\n",
       "<tr>\n",
       "  <th>Date:</th>             <td>Mon, 26 Apr 2021</td> <th>  Prob (F-statistic):</th> <td>4.00e-36</td>\n",
       "</tr>\n",
       "<tr>\n",
       "  <th>Time:</th>                 <td>15:51:30</td>     <th>  Log-Likelihood:    </th> <td> -357.28</td>\n",
       "</tr>\n",
       "<tr>\n",
       "  <th>No. Observations:</th>      <td>   131</td>      <th>  AIC:               </th> <td>   742.6</td>\n",
       "</tr>\n",
       "<tr>\n",
       "  <th>Df Residuals:</th>          <td>   117</td>      <th>  BIC:               </th> <td>   782.8</td>\n",
       "</tr>\n",
       "<tr>\n",
       "  <th>Df Model:</th>              <td>    13</td>      <th>                     </th>     <td> </td>   \n",
       "</tr>\n",
       "<tr>\n",
       "  <th>Covariance Type:</th>      <td>nonrobust</td>    <th>                     </th>     <td> </td>   \n",
       "</tr>\n",
       "</table>\n",
       "<table class=\"simpletable\">\n",
       "<tr>\n",
       "             <td></td>               <th>coef</th>     <th>std err</th>      <th>t</th>      <th>P>|t|</th>  <th>[0.025</th>    <th>0.975]</th>  \n",
       "</tr>\n",
       "<tr>\n",
       "  <th>const</th>                  <td>   67.9938</td> <td>    2.291</td> <td>   29.673</td> <td> 0.000</td> <td>   63.456</td> <td>   72.532</td>\n",
       "</tr>\n",
       "<tr>\n",
       "  <th>Status</th>                 <td>    3.0489</td> <td>    1.218</td> <td>    2.503</td> <td> 0.014</td> <td>    0.636</td> <td>    5.462</td>\n",
       "</tr>\n",
       "<tr>\n",
       "  <th>Adult Mortality</th>        <td>   -0.0325</td> <td>    0.004</td> <td>   -7.258</td> <td> 0.000</td> <td>   -0.041</td> <td>   -0.024</td>\n",
       "</tr>\n",
       "<tr>\n",
       "  <th>Alcohol</th>                <td>    0.2681</td> <td>    0.113</td> <td>    2.378</td> <td> 0.019</td> <td>    0.045</td> <td>    0.491</td>\n",
       "</tr>\n",
       "<tr>\n",
       "  <th>percentage expenditure</th> <td>    0.0004</td> <td>    0.000</td> <td>    1.751</td> <td> 0.083</td> <td>-5.38e-05</td> <td>    0.001</td>\n",
       "</tr>\n",
       "<tr>\n",
       "  <th>Hepatitis B</th>            <td>    0.0132</td> <td>    0.019</td> <td>    0.685</td> <td> 0.494</td> <td>   -0.025</td> <td>    0.051</td>\n",
       "</tr>\n",
       "<tr>\n",
       "  <th>Measles </th>               <td> 3.094e-05</td> <td> 4.87e-05</td> <td>    0.635</td> <td> 0.526</td> <td>-6.55e-05</td> <td>    0.000</td>\n",
       "</tr>\n",
       "<tr>\n",
       "  <th> BMI </th>                  <td>    0.0629</td> <td>    0.022</td> <td>    2.922</td> <td> 0.004</td> <td>    0.020</td> <td>    0.106</td>\n",
       "</tr>\n",
       "<tr>\n",
       "  <th>under-five deaths </th>     <td>   -0.0058</td> <td>    0.005</td> <td>   -1.235</td> <td> 0.219</td> <td>   -0.015</td> <td>    0.004</td>\n",
       "</tr>\n",
       "<tr>\n",
       "  <th>Polio</th>                  <td>    0.0239</td> <td>    0.024</td> <td>    1.003</td> <td> 0.318</td> <td>   -0.023</td> <td>    0.071</td>\n",
       "</tr>\n",
       "<tr>\n",
       "  <th>Total expenditure</th>      <td>    0.3460</td> <td>    0.151</td> <td>    2.291</td> <td> 0.024</td> <td>    0.047</td> <td>    0.645</td>\n",
       "</tr>\n",
       "<tr>\n",
       "  <th> HIV/AIDS</th>              <td>   -1.0716</td> <td>    0.313</td> <td>   -3.428</td> <td> 0.001</td> <td>   -1.691</td> <td>   -0.453</td>\n",
       "</tr>\n",
       "<tr>\n",
       "  <th>Population</th>             <td> 1.488e-08</td> <td> 1.14e-08</td> <td>    1.306</td> <td> 0.194</td> <td>-7.68e-09</td> <td> 3.74e-08</td>\n",
       "</tr>\n",
       "<tr>\n",
       "  <th> thinness  1-19 years</th>  <td>   -0.1718</td> <td>    0.109</td> <td>   -1.574</td> <td> 0.118</td> <td>   -0.388</td> <td>    0.044</td>\n",
       "</tr>\n",
       "</table>\n",
       "<table class=\"simpletable\">\n",
       "<tr>\n",
       "  <th>Omnibus:</th>       <td> 1.682</td> <th>  Durbin-Watson:     </th> <td>   2.143</td>\n",
       "</tr>\n",
       "<tr>\n",
       "  <th>Prob(Omnibus):</th> <td> 0.431</td> <th>  Jarque-Bera (JB):  </th> <td>   1.266</td>\n",
       "</tr>\n",
       "<tr>\n",
       "  <th>Skew:</th>          <td>-0.221</td> <th>  Prob(JB):          </th> <td>   0.531</td>\n",
       "</tr>\n",
       "<tr>\n",
       "  <th>Kurtosis:</th>      <td> 3.190</td> <th>  Cond. No.          </th> <td>2.79e+08</td>\n",
       "</tr>\n",
       "</table><br/><br/>Notes:<br/>[1] Standard Errors assume that the covariance matrix of the errors is correctly specified.<br/>[2] The condition number is large, 2.79e+08. This might indicate that there are<br/>strong multicollinearity or other numerical problems."
      ],
      "text/plain": [
       "<class 'statsmodels.iolib.summary.Summary'>\n",
       "\"\"\"\n",
       "                            OLS Regression Results                            \n",
       "==============================================================================\n",
       "Dep. Variable:       Life expectancy    R-squared:                       0.811\n",
       "Model:                            OLS   Adj. R-squared:                  0.790\n",
       "Method:                 Least Squares   F-statistic:                     38.56\n",
       "Date:                Mon, 26 Apr 2021   Prob (F-statistic):           4.00e-36\n",
       "Time:                        15:51:30   Log-Likelihood:                -357.28\n",
       "No. Observations:                 131   AIC:                             742.6\n",
       "Df Residuals:                     117   BIC:                             782.8\n",
       "Df Model:                          13                                         \n",
       "Covariance Type:            nonrobust                                         \n",
       "==========================================================================================\n",
       "                             coef    std err          t      P>|t|      [0.025      0.975]\n",
       "------------------------------------------------------------------------------------------\n",
       "const                     67.9938      2.291     29.673      0.000      63.456      72.532\n",
       "Status                     3.0489      1.218      2.503      0.014       0.636       5.462\n",
       "Adult Mortality           -0.0325      0.004     -7.258      0.000      -0.041      -0.024\n",
       "Alcohol                    0.2681      0.113      2.378      0.019       0.045       0.491\n",
       "percentage expenditure     0.0004      0.000      1.751      0.083   -5.38e-05       0.001\n",
       "Hepatitis B                0.0132      0.019      0.685      0.494      -0.025       0.051\n",
       "Measles                 3.094e-05   4.87e-05      0.635      0.526   -6.55e-05       0.000\n",
       " BMI                       0.0629      0.022      2.922      0.004       0.020       0.106\n",
       "under-five deaths         -0.0058      0.005     -1.235      0.219      -0.015       0.004\n",
       "Polio                      0.0239      0.024      1.003      0.318      -0.023       0.071\n",
       "Total expenditure          0.3460      0.151      2.291      0.024       0.047       0.645\n",
       " HIV/AIDS                 -1.0716      0.313     -3.428      0.001      -1.691      -0.453\n",
       "Population              1.488e-08   1.14e-08      1.306      0.194   -7.68e-09    3.74e-08\n",
       " thinness  1-19 years     -0.1718      0.109     -1.574      0.118      -0.388       0.044\n",
       "==============================================================================\n",
       "Omnibus:                        1.682   Durbin-Watson:                   2.143\n",
       "Prob(Omnibus):                  0.431   Jarque-Bera (JB):                1.266\n",
       "Skew:                          -0.221   Prob(JB):                        0.531\n",
       "Kurtosis:                       3.190   Cond. No.                     2.79e+08\n",
       "==============================================================================\n",
       "\n",
       "Notes:\n",
       "[1] Standard Errors assume that the covariance matrix of the errors is correctly specified.\n",
       "[2] The condition number is large, 2.79e+08. This might indicate that there are\n",
       "strong multicollinearity or other numerical problems.\n",
       "\"\"\""
      ]
     },
     "execution_count": 27,
     "metadata": {},
     "output_type": "execute_result"
    }
   ],
   "source": [
    "import statsmodels.api as sm\n",
    "regressor_OLS = sm.OLS(endog=Life_expectancy, exog=sm.add_constant(df_predictors_select_VIF)).fit()\n",
    "regressor_OLS.summary()"
   ]
  },
  {
   "cell_type": "markdown",
   "metadata": {},
   "source": [
    "### Lasso Model"
   ]
  },
  {
   "cell_type": "markdown",
   "metadata": {},
   "source": [
    "Lasso is the **least absolute shrinkage and selection operator**. It perform feature selection using a penalty function and it can help to reduce number of predictors in linear models. (So is **VIF**). We can directly establish a lasso model without using VIF method. It should be noted that predictors must be normalised in the lasso model, which can be done using this function by setting `normalize=True`."
   ]
  },
  {
   "cell_type": "code",
   "execution_count": 28,
   "metadata": {},
   "outputs": [
    {
     "data": {
      "text/plain": [
       "Lasso(max_iter=100000000.0, normalize=True)"
      ]
     },
     "execution_count": 28,
     "metadata": {},
     "output_type": "execute_result"
    }
   ],
   "source": [
    "from sklearn import linear_model\n",
    "# increase the max_iter to guarantee convergence\n",
    "lasso_model = linear_model.Lasso(max_iter=10e7, normalize=True)\n",
    "lasso_model.fit(X=predictors, y=Life_expectancy)"
   ]
  },
  {
   "cell_type": "markdown",
   "metadata": {},
   "source": [
    "We use the `score()` function to view the R2 score of the lasso model."
   ]
  },
  {
   "cell_type": "code",
   "execution_count": 29,
   "metadata": {},
   "outputs": [
    {
     "name": "stdout",
     "output_type": "stream",
     "text": [
      "R2 score:\n"
     ]
    },
    {
     "data": {
      "text/plain": [
       "0.0"
      ]
     },
     "execution_count": 29,
     "metadata": {},
     "output_type": "execute_result"
    }
   ],
   "source": [
    "print('R2 score:')\n",
    "lasso_model.score(X=predictors, y=Life_expectancy)"
   ]
  },
  {
   "cell_type": "markdown",
   "metadata": {},
   "source": [
    "#### Adjust Alpha Value\n",
    "\n",
    "The **R2** score is 0, which may indicate that the Lasso model is not suitable for this dataset. However, we know that when the alpha value comes to 0, lasso linear regression can be regarded as a simple linear regression, which has been proven to fit well on this data set. \n",
    "\n",
    "`alpha` value defaults in Lasso function provided by `sklearn` may be the cause of the bad **R2** score. We followed the official documents to adjust the value of `alpha`. We use `lassoCV()`, which is a Lasso linear model with iterative fitting along a regularization path. The `esp` means length of the path and `n_alphas` means number of alphas along the regularization path."
   ]
  },
  {
   "cell_type": "code",
   "execution_count": 30,
   "metadata": {},
   "outputs": [
    {
     "name": "stdout",
     "output_type": "stream",
     "text": [
      "R2 score:\n"
     ]
    },
    {
     "data": {
      "text/plain": [
       "0.8825329078655313"
      ]
     },
     "execution_count": 30,
     "metadata": {},
     "output_type": "execute_result"
    }
   ],
   "source": [
    "from sklearn.linear_model import LassoCV\n",
    "lasso_model2 = LassoCV(eps=1e-3, n_alphas=1000, normalize = True).fit(X=predictors, y=Life_expectancy)\n",
    "print('R2 score:')\n",
    "lasso_model2.score(X=predictors, y=Life_expectancy)"
   ]
  },
  {
   "cell_type": "markdown",
   "metadata": {},
   "source": [
    "We use `alpha_` function to get the amount of penalization chosen by cross validation."
   ]
  },
  {
   "cell_type": "code",
   "execution_count": 31,
   "metadata": {},
   "outputs": [
    {
     "name": "stdout",
     "output_type": "stream",
     "text": [
      "Best alpha\n",
      "0.017129818337261862\n"
     ]
    }
   ],
   "source": [
    "print('Best alpha')\n",
    "best_alpha = lasso_model2.alpha_\n",
    "print(best_alpha)"
   ]
  },
  {
   "cell_type": "markdown",
   "metadata": {},
   "source": [
    "In the given alpha fitting range in `lassoCV` function, the best `alpha` value is 0.017. At the same time, **R2** scores of this lasso model is 0.8825.  It looks like the Lasso model has done a great job in fitting the relationship between the response and predictors. Then we use the `coef_` function to get the coefficients of variables."
   ]
  },
  {
   "cell_type": "code",
   "execution_count": 32,
   "metadata": {},
   "outputs": [
    {
     "name": "stdout",
     "output_type": "stream",
     "text": [
      "                                var                                     coef\n",
      "0                            Status                                   0.6688\n",
      "1                   Adult Mortality                                  -0.0165\n",
      "2                     infant deaths                                  -0.0000\n",
      "3                           Alcohol                                   0.0000\n",
      "4            percentage expenditure                                   0.0001\n",
      "5                       Hepatitis B                                   0.0000\n",
      "6                          Measles                                   -0.0000\n",
      "7                              BMI                                    0.0000\n",
      "8                under-five deaths                                   -0.0004\n",
      "9                             Polio                                   0.0000\n",
      "10                Total expenditure                                   0.3011\n",
      "11                      Diphtheria                                    0.0071\n",
      "12                         HIV/AIDS                                  -0.9505\n",
      "13                              GDP                                   0.0000\n",
      "14                       Population                                   0.0000\n",
      "15             thinness  1-19 years                                  -0.0000\n",
      "16               thinness 5-9 years                                  -0.0278\n",
      "17  Income composition of resources                                  33.1567\n",
      "18                        Schooling                                   0.0000\n"
     ]
    }
   ],
   "source": [
    "# print(lasso_model.coef_)\n",
    "df_coef_lasso = pd.DataFrame({\"var\": predictors.columns.values, \"coef\":lasso_model2.coef_})\n",
    "print(df_coef_lasso)"
   ]
  },
  {
   "cell_type": "markdown",
   "metadata": {},
   "source": [
    "We can see from the `Lasso Path` below how the coefficient of each variable is compressed to 0 as the `log(alpha)` increases. The Variable with a coefficient of 0 is not selected by the model generated by the corresponding alpha value."
   ]
  },
  {
   "cell_type": "code",
   "execution_count": 33,
   "metadata": {},
   "outputs": [
    {
     "data": {
      "text/plain": [
       "(-1.25, 4.25, -2.2312700938895165, 12.557788730872678)"
      ]
     },
     "execution_count": 33,
     "metadata": {},
     "output_type": "execute_result"
    },
    {
     "data": {
      "image/png": "[encoded data removed]",
      "text/plain": [
       "<Figure size 432x288 with 1 Axes>"
      ]
     },
     "metadata": {
      "needs_background": "light"
     },
     "output_type": "display_data"
    }
   ],
   "source": [
    "from itertools import cycle\n",
    "from sklearn.linear_model import lasso_path\n",
    "\n",
    "predictors_standardised = predictors/predictors.std(axis=0)\n",
    "\n",
    "# alphas_lasso, coefs_lasso, _ = lasso_path(predictors_bike_rental, response_bike_rental, alphas = [.1, .5, 1, 10, 100], fit_intercept=False)\n",
    "alphas_lasso, coefs_lasso, _ = lasso_path(predictors_standardised, Life_expectancy.values.reshape(-1),alphas = [.1, .5, 1, 10, 100, 1000, 10000], fit_intercept=False)\n",
    "# print(alphas_lasso.shape)\n",
    "# print(coefs_lasso.shape)\n",
    "\n",
    "log_alphas_lasso = np.log10(alphas_lasso)\n",
    "for coef_l in coefs_lasso:\n",
    "    l1 = plt.plot(log_alphas_lasso, coef_l)\n",
    "\n",
    "plt.xlabel('Log(alpha)')\n",
    "plt.ylabel('coefficients')\n",
    "plt.title('Lasso Path')\n",
    "plt.axis('tight')"
   ]
  },
  {
   "cell_type": "markdown",
   "metadata": {},
   "source": [
    "### Regression Tree"
   ]
  },
  {
   "cell_type": "markdown",
   "metadata": {},
   "source": [
    "We use default values to establish a regression tree model for this dataset."
   ]
  },
  {
   "cell_type": "code",
   "execution_count": 34,
   "metadata": {},
   "outputs": [
    {
     "data": {
      "text/plain": [
       "DecisionTreeRegressor(random_state=0)"
      ]
     },
     "execution_count": 34,
     "metadata": {},
     "output_type": "execute_result"
    }
   ],
   "source": [
    "from sklearn.tree import DecisionTreeRegressor\n",
    "reg_tree = DecisionTreeRegressor(random_state=0)\n",
    "# if you don't remember the meaning of random_state, check out the lastest clustering workshop on Moodle\n",
    "reg_tree.fit(predictors, Life_expectancy)"
   ]
  },
  {
   "cell_type": "markdown",
   "metadata": {},
   "source": [
    "We use the `.score()` function to check the **R2** score of the model."
   ]
  },
  {
   "cell_type": "code",
   "execution_count": 35,
   "metadata": {},
   "outputs": [
    {
     "name": "stdout",
     "output_type": "stream",
     "text": [
      "R2 score:\n"
     ]
    },
    {
     "data": {
      "text/plain": [
       "1.0"
      ]
     },
     "execution_count": 35,
     "metadata": {},
     "output_type": "execute_result"
    }
   ],
   "source": [
    "print('R2 score:')\n",
    "reg_tree.score(X=predictors, y=Life_expectancy)"
   ]
  },
  {
   "cell_type": "markdown",
   "metadata": {},
   "source": [
    "### Random Forest"
   ]
  },
  {
   "cell_type": "markdown",
   "metadata": {},
   "source": [
    "We use default values to establish a random forest model for this dataset."
   ]
  },
  {
   "cell_type": "code",
   "execution_count": 36,
   "metadata": {},
   "outputs": [
    {
     "data": {
      "text/plain": [
       "RandomForestRegressor(random_state=0)"
      ]
     },
     "execution_count": 36,
     "metadata": {},
     "output_type": "execute_result"
    }
   ],
   "source": [
    "from sklearn.ensemble import RandomForestRegressor\n",
    "reg_random_forest = RandomForestRegressor(random_state=0)\n",
    "reg_random_forest.fit(predictors, Life_expectancy.values.reshape(-1))"
   ]
  },
  {
   "cell_type": "markdown",
   "metadata": {},
   "source": [
    "We use the `.score()` function to check the **R2** score of the model."
   ]
  },
  {
   "cell_type": "code",
   "execution_count": 37,
   "metadata": {},
   "outputs": [
    {
     "name": "stdout",
     "output_type": "stream",
     "text": [
      "R2 score:\n"
     ]
    },
    {
     "data": {
      "text/plain": [
       "0.9870842921010248"
      ]
     },
     "execution_count": 37,
     "metadata": {},
     "output_type": "execute_result"
    }
   ],
   "source": [
    "print('R2 score:')\n",
    "reg_random_forest.score(X=predictors, y=Life_expectancy)"
   ]
  },
  {
   "cell_type": "markdown",
   "metadata": {},
   "source": [
    "But the random forest regressor established here may not be perfect for prediction, because there is no developement set, which we can use for hyperparameters tuning. The problem of overfitting may exist in it and the regression tree model, which means that although they have perfect scores on the **given** dataset in this notebook, but would fail to predict anything useful on **yet-unseen** dataset. This is not the focus of this analysis."
   ]
  },
  {
   "cell_type": "markdown",
   "metadata": {},
   "source": [
    "### Random Forest Classifer\n",
    "\n",
    "#### Processing Dataset for Classification\n",
    "\n",
    "Firstly we have to add a labelled sample of data ralated to life expectancy into the existing dataset. In this analysis, we merge a binary value of whether the life expectancy is above the average with our dataset. Then we will train a random forest classifier on this dataset and it will figure out how to create a relationship between the factors impact on life expectancy and whether the life expectancy is above the mean value in 2014. This work using random forest classifer can be helpful for us to predict the future similar datasets.\n",
    "\n",
    "We use the following code to generate a new data set `data_for_Classifier`. In the new data set, the **'Life expectancy'** column is replaced by **'class'** column, in which **'1'** means that the life expectancy of the country is greater than or equal to the **mean** of life expectancy in the table, and **'0'** means the life expectancy of the country is less than the **mean** of life expectancy in the table.\n",
    "\n",
    "We actually know that there are only two classes in column `'class'`, so there is no need to use the `LabelEncoder` mentioned in the workshop to encode label with value between 0 and `n_classes-1`. We also know that the variables in the dataset are already numerical."
   ]
  },
  {
   "cell_type": "code",
   "execution_count": 38,
   "metadata": {},
   "outputs": [],
   "source": [
    "# dataset for classifer\n",
    "data_for_Classifier=data.copy()\n",
    "data_for_Classifier['class']=np.where(data['Life expectancy ']>=data['Life expectancy '].mean(),1,0)\n",
    "del data_for_Classifier['Life expectancy ']"
   ]
  },
  {
   "cell_type": "markdown",
   "metadata": {},
   "source": [
    "We use the following code to see the number of rows with a life expectancy in 2 different classes."
   ]
  },
  {
   "cell_type": "code",
   "execution_count": 39,
   "metadata": {},
   "outputs": [
    {
     "data": {
      "image/png": "[encoded data removed]",
      "text/plain": [
       "<Figure size 432x288 with 1 Axes>"
      ]
     },
     "metadata": {
      "needs_background": "light"
     },
     "output_type": "display_data"
    }
   ],
   "source": [
    "plt.bar(pd.value_counts(data_for_Classifier['class']).index,pd.value_counts(data_for_Classifier['class']).values)\n",
    "plt.xticks([0,1])\n",
    "plt.title('Number of Different Label', fontsize=20)\n",
    "for a, b in zip(pd.value_counts(data_for_Classifier['class']).index,pd.value_counts(data_for_Classifier['class']).values):\n",
    "    plt.text(a, b, '%.0f' % b, ha='center', va='bottom', fontsize=10)"
   ]
  },
  {
   "cell_type": "markdown",
   "metadata": {},
   "source": [
    "We can view the new data set."
   ]
  },
  {
   "cell_type": "code",
   "execution_count": 40,
   "metadata": {},
   "outputs": [
    {
     "data": {
      "text/html": [
       "<div>\n",
       "<style scoped>\n",
       "    .dataframe tbody tr th:only-of-type {\n",
       "        vertical-align: middle;\n",
       "    }\n",
       "\n",
       "    .dataframe tbody tr th {\n",
       "        vertical-align: top;\n",
       "    }\n",
       "\n",
       "    .dataframe thead th {\n",
       "        text-align: right;\n",
       "    }\n",
       "</style>\n",
       "<table border=\"1\" class=\"dataframe\">\n",
       "  <thead>\n",
       "    <tr style=\"text-align: right;\">\n",
       "      <th></th>\n",
       "      <th>Status</th>\n",
       "      <th>Adult Mortality</th>\n",
       "      <th>infant deaths</th>\n",
       "      <th>Alcohol</th>\n",
       "      <th>percentage expenditure</th>\n",
       "      <th>Hepatitis B</th>\n",
       "      <th>Measles</th>\n",
       "      <th>BMI</th>\n",
       "      <th>under-five deaths</th>\n",
       "      <th>Polio</th>\n",
       "      <th>Total expenditure</th>\n",
       "      <th>Diphtheria</th>\n",
       "      <th>HIV/AIDS</th>\n",
       "      <th>GDP</th>\n",
       "      <th>Population</th>\n",
       "      <th>thinness  1-19 years</th>\n",
       "      <th>thinness 5-9 years</th>\n",
       "      <th>Income composition of resources</th>\n",
       "      <th>Schooling</th>\n",
       "      <th>class</th>\n",
       "    </tr>\n",
       "    <tr>\n",
       "      <th>Country</th>\n",
       "      <th></th>\n",
       "      <th></th>\n",
       "      <th></th>\n",
       "      <th></th>\n",
       "      <th></th>\n",
       "      <th></th>\n",
       "      <th></th>\n",
       "      <th></th>\n",
       "      <th></th>\n",
       "      <th></th>\n",
       "      <th></th>\n",
       "      <th></th>\n",
       "      <th></th>\n",
       "      <th></th>\n",
       "      <th></th>\n",
       "      <th></th>\n",
       "      <th></th>\n",
       "      <th></th>\n",
       "      <th></th>\n",
       "      <th></th>\n",
       "    </tr>\n",
       "  </thead>\n",
       "  <tbody>\n",
       "    <tr>\n",
       "      <th>Afghanistan</th>\n",
       "      <td>0</td>\n",
       "      <td>271.0000</td>\n",
       "      <td>64</td>\n",
       "      <td>0.0100</td>\n",
       "      <td>73.5236</td>\n",
       "      <td>62.0000</td>\n",
       "      <td>492</td>\n",
       "      <td>18.6000</td>\n",
       "      <td>86</td>\n",
       "      <td>58.0000</td>\n",
       "      <td>8.1800</td>\n",
       "      <td>62.0000</td>\n",
       "      <td>0.1000</td>\n",
       "      <td>612.6965</td>\n",
       "      <td>327,582.0000</td>\n",
       "      <td>17.5000</td>\n",
       "      <td>17.5000</td>\n",
       "      <td>0.4760</td>\n",
       "      <td>10.0000</td>\n",
       "      <td>0</td>\n",
       "    </tr>\n",
       "    <tr>\n",
       "      <th>Albania</th>\n",
       "      <td>0</td>\n",
       "      <td>8.0000</td>\n",
       "      <td>0</td>\n",
       "      <td>4.5100</td>\n",
       "      <td>428.7491</td>\n",
       "      <td>98.0000</td>\n",
       "      <td>0</td>\n",
       "      <td>57.2000</td>\n",
       "      <td>1</td>\n",
       "      <td>98.0000</td>\n",
       "      <td>5.8800</td>\n",
       "      <td>98.0000</td>\n",
       "      <td>0.1000</td>\n",
       "      <td>4,575.7638</td>\n",
       "      <td>288,914.0000</td>\n",
       "      <td>1.2000</td>\n",
       "      <td>1.3000</td>\n",
       "      <td>0.7610</td>\n",
       "      <td>14.2000</td>\n",
       "      <td>1</td>\n",
       "    </tr>\n",
       "    <tr>\n",
       "      <th>Algeria</th>\n",
       "      <td>0</td>\n",
       "      <td>11.0000</td>\n",
       "      <td>21</td>\n",
       "      <td>0.0100</td>\n",
       "      <td>54.2373</td>\n",
       "      <td>95.0000</td>\n",
       "      <td>0</td>\n",
       "      <td>58.4000</td>\n",
       "      <td>24</td>\n",
       "      <td>95.0000</td>\n",
       "      <td>7.2100</td>\n",
       "      <td>95.0000</td>\n",
       "      <td>0.1000</td>\n",
       "      <td>547.8517</td>\n",
       "      <td>39,113,313.0000</td>\n",
       "      <td>6.0000</td>\n",
       "      <td>5.8000</td>\n",
       "      <td>0.7410</td>\n",
       "      <td>14.4000</td>\n",
       "      <td>1</td>\n",
       "    </tr>\n",
       "    <tr>\n",
       "      <th>Angola</th>\n",
       "      <td>0</td>\n",
       "      <td>348.0000</td>\n",
       "      <td>67</td>\n",
       "      <td>8.3300</td>\n",
       "      <td>23.9656</td>\n",
       "      <td>64.0000</td>\n",
       "      <td>11699</td>\n",
       "      <td>22.7000</td>\n",
       "      <td>101</td>\n",
       "      <td>68.0000</td>\n",
       "      <td>3.3100</td>\n",
       "      <td>64.0000</td>\n",
       "      <td>2.0000</td>\n",
       "      <td>479.3122</td>\n",
       "      <td>2,692,466.0000</td>\n",
       "      <td>8.5000</td>\n",
       "      <td>8.3000</td>\n",
       "      <td>0.5270</td>\n",
       "      <td>11.4000</td>\n",
       "      <td>0</td>\n",
       "    </tr>\n",
       "    <tr>\n",
       "      <th>Argentina</th>\n",
       "      <td>0</td>\n",
       "      <td>118.0000</td>\n",
       "      <td>8</td>\n",
       "      <td>7.9300</td>\n",
       "      <td>847.3717</td>\n",
       "      <td>94.0000</td>\n",
       "      <td>1</td>\n",
       "      <td>62.2000</td>\n",
       "      <td>9</td>\n",
       "      <td>92.0000</td>\n",
       "      <td>4.7900</td>\n",
       "      <td>94.0000</td>\n",
       "      <td>0.1000</td>\n",
       "      <td>12,245.2565</td>\n",
       "      <td>42,981,515.0000</td>\n",
       "      <td>1.0000</td>\n",
       "      <td>0.9000</td>\n",
       "      <td>0.8250</td>\n",
       "      <td>17.3000</td>\n",
       "      <td>1</td>\n",
       "    </tr>\n",
       "  </tbody>\n",
       "</table>\n",
       "</div>"
      ],
      "text/plain": [
       "             Status                          Adult Mortality  infant deaths  \\\n",
       "Country                                                                       \n",
       "Afghanistan       0                                 271.0000             64   \n",
       "Albania           0                                   8.0000              0   \n",
       "Algeria           0                                  11.0000             21   \n",
       "Angola            0                                 348.0000             67   \n",
       "Argentina         0                                 118.0000              8   \n",
       "\n",
       "                                             Alcohol  \\\n",
       "Country                                                \n",
       "Afghanistan                                   0.0100   \n",
       "Albania                                       4.5100   \n",
       "Algeria                                       0.0100   \n",
       "Angola                                        8.3300   \n",
       "Argentina                                     7.9300   \n",
       "\n",
       "                              percentage expenditure  \\\n",
       "Country                                                \n",
       "Afghanistan                                  73.5236   \n",
       "Albania                                     428.7491   \n",
       "Algeria                                      54.2373   \n",
       "Angola                                       23.9656   \n",
       "Argentina                                   847.3717   \n",
       "\n",
       "                                         Hepatitis B  Measles   \\\n",
       "Country                                                          \n",
       "Afghanistan                                  62.0000       492   \n",
       "Albania                                      98.0000         0   \n",
       "Algeria                                      95.0000         0   \n",
       "Angola                                       64.0000     11699   \n",
       "Argentina                                    94.0000         1   \n",
       "\n",
       "                                                BMI   under-five deaths   \\\n",
       "Country                                                                    \n",
       "Afghanistan                                  18.6000                  86   \n",
       "Albania                                      57.2000                   1   \n",
       "Algeria                                      58.4000                  24   \n",
       "Angola                                       22.7000                 101   \n",
       "Argentina                                    62.2000                   9   \n",
       "\n",
       "                                               Polio  \\\n",
       "Country                                                \n",
       "Afghanistan                                  58.0000   \n",
       "Albania                                      98.0000   \n",
       "Algeria                                      95.0000   \n",
       "Angola                                       68.0000   \n",
       "Argentina                                    92.0000   \n",
       "\n",
       "                                   Total expenditure  \\\n",
       "Country                                                \n",
       "Afghanistan                                   8.1800   \n",
       "Albania                                       5.8800   \n",
       "Algeria                                       7.2100   \n",
       "Angola                                        3.3100   \n",
       "Argentina                                     4.7900   \n",
       "\n",
       "                                         Diphtheria   \\\n",
       "Country                                                \n",
       "Afghanistan                                  62.0000   \n",
       "Albania                                      98.0000   \n",
       "Algeria                                      95.0000   \n",
       "Angola                                       64.0000   \n",
       "Argentina                                    94.0000   \n",
       "\n",
       "                                            HIV/AIDS  \\\n",
       "Country                                                \n",
       "Afghanistan                                   0.1000   \n",
       "Albania                                       0.1000   \n",
       "Algeria                                       0.1000   \n",
       "Angola                                        2.0000   \n",
       "Argentina                                     0.1000   \n",
       "\n",
       "                                                 GDP  \\\n",
       "Country                                                \n",
       "Afghanistan                                 612.6965   \n",
       "Albania                                   4,575.7638   \n",
       "Algeria                                     547.8517   \n",
       "Angola                                      479.3122   \n",
       "Argentina                                12,245.2565   \n",
       "\n",
       "                                          Population  \\\n",
       "Country                                                \n",
       "Afghanistan                             327,582.0000   \n",
       "Albania                                 288,914.0000   \n",
       "Algeria                              39,113,313.0000   \n",
       "Angola                                2,692,466.0000   \n",
       "Argentina                            42,981,515.0000   \n",
       "\n",
       "                                thinness  1-19 years  \\\n",
       "Country                                                \n",
       "Afghanistan                                  17.5000   \n",
       "Albania                                       1.2000   \n",
       "Algeria                                       6.0000   \n",
       "Angola                                        8.5000   \n",
       "Argentina                                     1.0000   \n",
       "\n",
       "                                  thinness 5-9 years  \\\n",
       "Country                                                \n",
       "Afghanistan                                  17.5000   \n",
       "Albania                                       1.3000   \n",
       "Algeria                                       5.8000   \n",
       "Angola                                        8.3000   \n",
       "Argentina                                     0.9000   \n",
       "\n",
       "                     Income composition of resources  \\\n",
       "Country                                                \n",
       "Afghanistan                                   0.4760   \n",
       "Albania                                       0.7610   \n",
       "Algeria                                       0.7410   \n",
       "Angola                                        0.5270   \n",
       "Argentina                                     0.8250   \n",
       "\n",
       "                                           Schooling  class  \n",
       "Country                                                      \n",
       "Afghanistan                                  10.0000      0  \n",
       "Albania                                      14.2000      1  \n",
       "Algeria                                      14.4000      1  \n",
       "Angola                                       11.4000      0  \n",
       "Argentina                                    17.3000      1  "
      ]
     },
     "execution_count": 40,
     "metadata": {},
     "output_type": "execute_result"
    }
   ],
   "source": [
    "data_for_Classifier.head()"
   ]
  },
  {
   "cell_type": "markdown",
   "metadata": {},
   "source": [
    "We use `train_test_split` method to split the dataset."
   ]
  },
  {
   "cell_type": "code",
   "execution_count": 41,
   "metadata": {},
   "outputs": [],
   "source": [
    "X=data_for_Classifier.iloc[:,:-1]\n",
    "y=data_for_Classifier['class']"
   ]
  },
  {
   "cell_type": "code",
   "execution_count": 42,
   "metadata": {},
   "outputs": [],
   "source": [
    "from sklearn.model_selection import train_test_split\n",
    "X_train,X_test,y_train,y_test = train_test_split(X,y,test_size=0.25,random_state=123)"
   ]
  },
  {
   "cell_type": "markdown",
   "metadata": {},
   "source": [
    "We use following code to check the lengths of the training and testing datasets."
   ]
  },
  {
   "cell_type": "code",
   "execution_count": 43,
   "metadata": {},
   "outputs": [
    {
     "data": {
      "text/plain": [
       "(98, 33, 98, 33)"
      ]
     },
     "execution_count": 43,
     "metadata": {},
     "output_type": "execute_result"
    }
   ],
   "source": [
    "len(X_train),len(X_test),len(y_train),len(y_test)"
   ]
  },
  {
   "cell_type": "markdown",
   "metadata": {},
   "source": [
    "#### Establish Model"
   ]
  },
  {
   "cell_type": "code",
   "execution_count": 44,
   "metadata": {},
   "outputs": [],
   "source": [
    "from sklearn.ensemble import RandomForestClassifier"
   ]
  },
  {
   "cell_type": "markdown",
   "metadata": {},
   "source": [
    "When spliting the data set and establishing the random forest model, `random_state` is set to keep the result stable, which is convenient for discussion later. We use following code to train the classifer on taining set."
   ]
  },
  {
   "cell_type": "code",
   "execution_count": 45,
   "metadata": {},
   "outputs": [
    {
     "data": {
      "text/plain": [
       "RandomForestClassifier(n_estimators=10, random_state=123)"
      ]
     },
     "execution_count": 45,
     "metadata": {},
     "output_type": "execute_result"
    }
   ],
   "source": [
    "forest=RandomForestClassifier(n_estimators=10, random_state=123)\n",
    "forest.fit(X_train,y_train)"
   ]
  },
  {
   "cell_type": "markdown",
   "metadata": {},
   "source": [
    "Use test set to get the classifcation accuracy scores."
   ]
  },
  {
   "cell_type": "code",
   "execution_count": 46,
   "metadata": {},
   "outputs": [],
   "source": [
    "pre_forest=forest.predict(X_test)"
   ]
  },
  {
   "cell_type": "code",
   "execution_count": 47,
   "metadata": {},
   "outputs": [
    {
     "name": "stdout",
     "output_type": "stream",
     "text": [
      "Classification accuracy: \n",
      "0.9090909090909091\n"
     ]
    }
   ],
   "source": [
    "from sklearn import metrics\n",
    "print(\"Classification accuracy: \")\n",
    "print(metrics.accuracy_score(y_test, pre_forest))"
   ]
  },
  {
   "cell_type": "markdown",
   "metadata": {},
   "source": [
    "Draw the confusion matrix and display other results."
   ]
  },
  {
   "cell_type": "code",
   "execution_count": 48,
   "metadata": {},
   "outputs": [
    {
     "data": {
      "image/png": "[encoded data removed]",
      "text/plain": [
       "<Figure size 288x288 with 2 Axes>"
      ]
     },
     "metadata": {
      "needs_background": "light"
     },
     "output_type": "display_data"
    }
   ],
   "source": [
    "confusion_matrix = metrics.confusion_matrix(y_test,  pre_forest)\n",
    "plt.matshow(confusion_matrix)\n",
    "plt.title('Confusion matrix')\n",
    "plt.colorbar()\n",
    "plt.ylabel('True label')\n",
    "plt.xlabel('Predicted label')\n",
    "plt.show()"
   ]
  },
  {
   "cell_type": "code",
   "execution_count": 49,
   "metadata": {},
   "outputs": [
    {
     "name": "stdout",
     "output_type": "stream",
     "text": [
      "Classification results: \n",
      "              precision    recall  f1-score   support\n",
      "\n",
      "           0       0.86      0.92      0.89        13\n",
      "           1       0.95      0.90      0.92        20\n",
      "\n",
      "    accuracy                           0.91        33\n",
      "   macro avg       0.90      0.91      0.91        33\n",
      "weighted avg       0.91      0.91      0.91        33\n",
      "\n"
     ]
    }
   ],
   "source": [
    "print(\"Classification results: \")\n",
    "print(metrics.classification_report(y_test, pre_forest))"
   ]
  },
  {
   "cell_type": "markdown",
   "metadata": {},
   "source": [
    "#### Hyperparameter Tuning for Random Forests\n",
    "\n",
    "There are hyperparameters in the random forest model, which need to be pre-defined before the model is trained. For example, we preset `n_estimators=10`, which represents the number of trees in the model. In fact, we cannot know the optimal number of trees for a random forest. Therefore, we need cross-validation to tune the hyperparameters of the model to promote its performance.\n",
    "\n",
    "we use `cross_val_score` function which is a tool to tune hyperparameters with the goal of accuracy score. We set `cv_fold` as 5, which means the number of fold is 5 just like the picture below. \n",
    "\n",
    "![](https://github.com/huanfachen/Spatial_Data_Science/raw/main/Images/grid_search_cross_validation.png)"
   ]
  },
  {
   "cell_type": "code",
   "execution_count": 50,
   "metadata": {},
   "outputs": [
    {
     "name": "stdout",
     "output_type": "stream",
     "text": [
      "[0.85       0.9        0.9        0.78947368 0.94736842]\n",
      "Accuracy: 0.88 (+/- 0.05)\n"
     ]
    }
   ],
   "source": [
    "# number of fold as 5\n",
    "cv_fold=5\n",
    "\n",
    "from sklearn.model_selection import cross_val_score\n",
    "from sklearn.model_selection import KFold\n",
    "\n",
    "clf = RandomForestClassifier(n_estimators=10, random_state=123)\n",
    "\n",
    "# call the cross_val_score function\n",
    "scores = cross_val_score(clf, X_train,y_train, cv=cv_fold)\n",
    "# note that this is an array\n",
    "print(scores) \n",
    "print(\"Accuracy: %0.2f (+/- %0.2f)\" % (scores.mean(), scores.std()))"
   ]
  },
  {
   "cell_type": "markdown",
   "metadata": {},
   "source": [
    "We test a range of values, namely 10, 20, 30, 40, 50, 100, 200, 300, 400 to search for the best number of trees."
   ]
  },
  {
   "cell_type": "code",
   "execution_count": 51,
   "metadata": {},
   "outputs": [
    {
     "data": {
      "text/plain": [
       "GridSearchCV(estimator=RandomForestClassifier(),\n",
       "             param_grid={'n_estimators': [10, 20, 30, 40, 50, 100, 200, 300,\n",
       "                                          400]})"
      ]
     },
     "execution_count": 51,
     "metadata": {},
     "output_type": "execute_result"
    }
   ],
   "source": [
    "from sklearn import model_selection\n",
    "parameters = {'n_estimators':[10, 20, 30, 40, 50, 100, 200, 300, 400]}\n",
    "rf = RandomForestClassifier()\n",
    "\n",
    "clf = model_selection.GridSearchCV(rf, parameters)\n",
    "\n",
    "clf.fit( X_train,y_train)"
   ]
  },
  {
   "cell_type": "markdown",
   "metadata": {},
   "source": [
    "When writing this notebook, the best number of trees I got is 200, and the corresponding accurate score is 0.93, which indicates that tuned hyperparameter help to improve the accuracy score."
   ]
  },
  {
   "cell_type": "code",
   "execution_count": 52,
   "metadata": {},
   "outputs": [
    {
     "name": "stdout",
     "output_type": "stream",
     "text": [
      "The best parameter value is: \n",
      "{'n_estimators': 100}\n",
      "The best score is: \n",
      "0.9294736842105262\n"
     ]
    }
   ],
   "source": [
    "# we can query the best parameter value and its accuracy score\n",
    "print (\"The best parameter value is: \")\n",
    "print (clf.best_params_)\n",
    "print (\"The best score is: \")\n",
    "print (clf.best_score_)"
   ]
  },
  {
   "cell_type": "markdown",
   "metadata": {},
   "source": [
    "Fianlly, we use the tuned hyperparameter in the random forest model to get the final confusion matrix and other results."
   ]
  },
  {
   "cell_type": "code",
   "execution_count": 53,
   "metadata": {},
   "outputs": [
    {
     "data": {
      "image/png": "[encoded data removed]",
      "text/plain": [
       "<Figure size 288x288 with 2 Axes>"
      ]
     },
     "metadata": {
      "needs_background": "light"
     },
     "output_type": "display_data"
    }
   ],
   "source": [
    "forest_final=RandomForestClassifier(n_estimators=200, random_state=123)\n",
    "forest_final.fit(X_train,y_train)\n",
    "pre_forest_final=forest_final.predict(X_test)\n",
    "confusion_matrix = metrics.confusion_matrix(y_test,  pre_forest_final)\n",
    "plt.matshow(confusion_matrix)\n",
    "plt.title('Confusion matrix')\n",
    "plt.colorbar()\n",
    "plt.ylabel('True label')\n",
    "plt.xlabel('Predicted label')\n",
    "plt.show()"
   ]
  },
  {
   "cell_type": "code",
   "execution_count": 54,
   "metadata": {},
   "outputs": [
    {
     "name": "stdout",
     "output_type": "stream",
     "text": [
      "Classification results: \n",
      "              precision    recall  f1-score   support\n",
      "\n",
      "           0       1.00      0.92      0.96        13\n",
      "           1       0.95      1.00      0.98        20\n",
      "\n",
      "    accuracy                           0.97        33\n",
      "   macro avg       0.98      0.96      0.97        33\n",
      "weighted avg       0.97      0.97      0.97        33\n",
      "\n"
     ]
    }
   ],
   "source": [
    "print(\"Classification results: \")\n",
    "print(metrics.classification_report(y_test, pre_forest_final))"
   ]
  },
  {
   "cell_type": "markdown",
   "metadata": {},
   "source": [
    "## 6.Results and Discussion"
   ]
  },
  {
   "cell_type": "markdown",
   "metadata": {},
   "source": [
    "For the simple linear regression, the fitting degree of the model is relatively good. R2 score is 0.8108, which means 81.08% of the variance in the life expectancy can be explained by the predictors used. We identify significant variables using p-values and we can find out which variables have the p-value less than 0.05 from **P>|t|** column of the OLS summary result table. Therefore in the simple linear regression model, the significant factors impact on life expectancy are **'Adult Mortality'**, **'HIV/AIDS'**, **'BMI'**, **'Status'**, **'Alcohol'** and **'Total expenditure'**. Among them, 4 variables including **'Status'**, **'Slcohol'**,  **'BMI'** and **'Total expenditure'** are positively correlated with **'Life expectancy'**. **'Adult Mortality'** and **'HIV/AIDS'** are negatively correlated with **'Life expectancy'**.\n",
    "\n",
    "Then it comes to the Lasso moedel. When the value of `alpha` selected by `LassoCV` is 0.01712, the R2 score is 0.8825, which means Lasso model has done a great job in fitting the relationship between the response and predictors. At the sametime, the variables selected by the model (with non-zero coefficient) are 5 positively correlated variables including **'Status'**, **'percentage expenditure'**,  **'Total expenditure'**,  **'Diphtheria'**, **'Income composition of resources'** and 4 negatively correlated variables including **'Adult Mortality'**, **'under-five deaths'**, **'HIV/AIDS'** and **'thinness 5-9 years'**. And they can also explain the dependent variable, life expectancy relatively well in this model.\n",
    "\n",
    "The weight we get does not imply importance in linear models. Because the weight can be affected by the unit change of corresponding variable. We use the results obtained by the linear regression model as an example to explain weight. When all other features remain fixed, life expectancy decreases by 0.0325 for each additional unit of **'Adult Mortality'**; life expectancy increases 0.2681 for each additional unit of **'Alcohol'**; life expectancy increases 0.0004 for each additional unit of **'percentage expenditure'**; life expectancy increases 0.0132 for each additional unit of **'Hepatitis B'**; life expectancy increases 0.0629 for each additional unit of **'BMI'**; life expectancy decreases by 0.0058 for each additional unit of **'under-five deaths'**; life expectancy increases 0.0239 for each additional unit of **'Polio'**; life expectancy increases 0.3460 for each additional unit of **'Total expenditure'**; life expectancy decreases by 1.0716 for each additional unit of **'HIV/AIDS'**, life expectancy decreases by 1.0718 for each additional unit of **'thinness 1-19 years'**. As for the categorical variable **‘Status’**, we can interpret its weight like this: when the country is a developed country, the \n",
    "predicted life expectancy is 3.0489 more compared to that in a developing country, given all other features remain fixed.\n",
    "\n",
    "For comparison, make a bar chart of the R2 scores of all regressors. "
   ]
  },
  {
   "cell_type": "code",
   "execution_count": 55,
   "metadata": {},
   "outputs": [
    {
     "data": {
      "image/png": "[encoded data removed]",
      "text/plain": [
       "<Figure size 720x576 with 1 Axes>"
      ]
     },
     "metadata": {
      "needs_background": "light"
     },
     "output_type": "display_data"
    }
   ],
   "source": [
    "m=['Simple linear','Lasso','Tree','Random Forest']\n",
    "r=[0.811,0.883,1,0.987]\n",
    "plt.figure(figsize=(10,8))\n",
    "\n",
    "plt.bar(m,r)\n",
    "plt.title('R2 Score for Different Regressor', fontsize=20)\n",
    "for a, b in zip(m, r):\n",
    "    plt.text(a, b, '%.3f' % b, ha='center', va='bottom', fontsize=10)"
   ]
  },
  {
   "cell_type": "markdown",
   "metadata": {},
   "source": [
    "From the R2 scores above, we can say that among the 4 models established in this notebook, regression tree model has done the best job in fitting the relationship between the response and predictors on this given dataset. As mentioned earlier, as the data set is not split, we cannot use this as a basis to estimate prediction accuracy. Overfitting is also an unavoidable problem for regression tree and random forest model.\n",
    "\n",
    "For the random forest classifier, in my computer, the optimal number of trees determined using cross-validation is 200. Then we can try to explain the classification results. We take **'0'**, which means life expectancy is less than average value in 2014, as an example to explain results. In 13 countries with life expectancy less than average, 12 are correctly classified. Therefore, **recall** for **'0'** is 0.92. In countries classified as having life expectancy less than average, all of them actually have life expectancy less than average, so the **precision** is 1. In all 33 countries on the test set, 32 are correctly classified, so the **accuracy** score of the model on test set is 0.97."
   ]
  },
  {
   "cell_type": "markdown",
   "metadata": {},
   "source": [
    "## 7.Conclusion"
   ]
  },
  {
   "cell_type": "markdown",
   "metadata": {},
   "source": [
    "The random forest classifier established on this dataset about life expectancy has good performance. It can help extracting patterns from large datasets.\n",
    "\n",
    "From this notebook we can find that only 4 variables, **'Adult Mortality', HIV/AIDS', 'Status'** and **'Total expenditure'**, are selected by the two linear regression models and they must have huge impact on **‘life expectancy‘**. **‘life expectancy‘** decreases as adult mortality and AIDS risk increase and it increases as total health expenditure in GDP increases. The government needs to pay more attention to these aspects to increase the life expectancy of its own country. And the life expectancy in developed countries must be higher than that in developing countries which is indicated by the 2 models.\n",
    "\n",
    "In addition, compared with previous studies, the newly added immunization related factors are newly added into the dataset for this analysis, including **'Hepatitis B'**, **'Measles'**, and **'Polio'**. But they are indeed not significant enough compared to the social factors and mortality factors mentioned above. In future studies, we may consider continuing to collect more immunization factors and then treat them as a whole variable when establish regression models.\n"
   ]
  },
  {
   "cell_type": "markdown",
   "metadata": {},
   "source": [
    "## 8.Reference"
   ]
  },
  {
   "cell_type": "markdown",
   "metadata": {},
   "source": [
    "1.Gulis, G., 2000. European Journal of Epidemiology, 16(2), pp.161-165.\n",
    "\n",
    "2.Li, W., Maduro, G. and Begier, E., 2016. Increased Life Expectancy in New York City, 2001-2010. Journal of Public Health Management and Practice, 22(3), pp.255-264.\n",
    "\n",
    "3.Ortiz-Ospina, E. and Beltekian, D., 2018. Why do women live longer than men?. Our World in Data, [online] Available at: <https://ourworldindata.org/why-do-women-live-longer-than-men#licence> [Accessed 15 April 2021].\n",
    "\n",
    "4.Roser, M., Ortiz-Ospina, E. and Ritchie, H., 2013. Life Expectancy. Our World in Data, [online] Available at: <http://ttps://ourworldindata.org/life-expectancy> [Accessed 15 April 2021].\n",
    "\n",
    "5.Sede, P. and Ohemeng, W., 2015. Socio-economic determinants of life expectancy in Nigeria (1980 – 2011). Health Economics Review, 5(1)."
   ]
  },
  {
   "cell_type": "code",
   "execution_count": 56,
   "metadata": {},
   "outputs": [
    {
     "name": "stdout",
     "output_type": "stream",
     "text": [
      "Total run time:  25.41037940979004 seconds\n"
     ]
    }
   ],
   "source": [
    "end_time = time.time()\n",
    "run_time = end_time - start_time\n",
    "print(\"Total run time: \", run_time, \"seconds\")"
   ]
  }
 ],
 "metadata": {
  "kernelspec": {
   "display_name": "Python 3",
   "language": "python",
   "name": "python3"
  },
  "language_info": {
   "codemirror_mode": {
    "name": "ipython",
    "version": 3
   },
   "file_extension": ".py",
   "mimetype": "text/x-python",
   "name": "python",
   "nbconvert_exporter": "python",
   "pygments_lexer": "ipython3",
   "version": "3.7.8"
  }
 },
 "nbformat": 4,
 "nbformat_minor": 4
}
